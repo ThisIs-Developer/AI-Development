{
 "cells": [
  {
   "cell_type": "code",
   "execution_count": 4,
   "id": "4879f346",
   "metadata": {},
   "outputs": [
    {
     "name": "stdout",
     "output_type": "stream",
     "text": [
      "Dictionary with integer value :  {1: 'Baivab', 2: 'Ayan', 3: 'Arpan', 4: 'Bhishmadev'}\n"
     ]
    }
   ],
   "source": [
    "dict1={1:\"Baivab\",2:\"Ayan\",3:\"Arpan\",4:\"Bhishmadev\"}\n",
    "print(\"Dictionary with integer value : \",end=' ')\n",
    "print(dict1)"
   ]
  },
  {
   "cell_type": "code",
   "execution_count": 5,
   "id": "e71503a5",
   "metadata": {},
   "outputs": [
    {
     "name": "stdout",
     "output_type": "stream",
     "text": [
      "Dictionary with mixed keys :  {'name': 'Baivab', 'marks': [45, 96, 72, 86]}\n"
     ]
    }
   ],
   "source": [
    "dict2={'name':'Baivab','marks':[45,96,72,86]}\n",
    "print(\"Dictionary with mixed keys : \",end=' ')\n",
    "print(dict2)"
   ]
  },
  {
   "cell_type": "code",
   "execution_count": 6,
   "id": "3d385555",
   "metadata": {},
   "outputs": [
    {
     "name": "stdout",
     "output_type": "stream",
     "text": [
      "{1: 'Baivab', 2: 'Ayan', 3: 'Arpan', 4: 'Bhishmadev'}\n",
      "<class 'dict'>\n"
     ]
    }
   ],
   "source": [
    "dict3=dict({1:\"Baivab\",2:\"Ayan\",3:\"Arpan\",4:\"Bhishmadev\"})\n",
    "print(dict3)\n",
    "print(type(dict3))"
   ]
  },
  {
   "cell_type": "code",
   "execution_count": 7,
   "id": "179d1d19",
   "metadata": {},
   "outputs": [
    {
     "name": "stdout",
     "output_type": "stream",
     "text": [
      "Dictionary after adding 3 elements : \n",
      "{2: 'For', 3: 1}\n"
     ]
    }
   ],
   "source": [
    "dict6={}\n",
    "dict6[2]='For'\n",
    "dict6[3]=1\n",
    "print(\"Dictionary after adding 3 elements : \")\n",
    "print(dict6)"
   ]
  },
  {
   "cell_type": "code",
   "execution_count": 8,
   "id": "9ea54b01",
   "metadata": {},
   "outputs": [
    {
     "name": "stdout",
     "output_type": "stream",
     "text": [
      "Dictionary after adding 3 elements : \n",
      "{2: 'For', 3: 1, 'Value_set': (2, 3, 4)}\n"
     ]
    }
   ],
   "source": [
    "dict6['Value_set']=2,3,4\n",
    "print(\"Dictionary after adding 3 elements : \")\n",
    "print(dict6)"
   ]
  },
  {
   "cell_type": "code",
   "execution_count": 9,
   "id": "62562b67",
   "metadata": {},
   "outputs": [
    {
     "name": "stdout",
     "output_type": "stream",
     "text": [
      "{'Brand': 'Honda', 'Model': 'Honda-city', 'Year': 1969}\n",
      "Honda-city\n",
      "Honda-city\n"
     ]
    }
   ],
   "source": [
    "my_dict={ \"Brand\":\"Honda\",\n",
    "          \"Model\":\"Honda-city\",\n",
    "          \"Year\":1969\n",
    "         }\n",
    "print(my_dict)\n",
    "x=my_dict[\"Model\"]\n",
    "print(x)\n",
    "x=my_dict.get(\"Model\")\n",
    "print(x)"
   ]
  },
  {
   "cell_type": "code",
   "execution_count": 10,
   "id": "1c33b25e",
   "metadata": {},
   "outputs": [
    {
     "name": "stdout",
     "output_type": "stream",
     "text": [
      "{'Brand': 'Honda', 'Model': 'Honda-city', 'Year': 1969}\n",
      "Honda-city\n",
      "Honda-city\n",
      "{'Brand': 'Honda', 'Model': 'Honda-Town', 'Year': 2022}\n",
      "Honda-Town\n",
      "Honda-Town\n"
     ]
    }
   ],
   "source": [
    "my_dict={ \"Brand\":\"Honda\",\n",
    "          \"Model\":\"Honda-city\",\n",
    "          \"Year\":1969\n",
    "         }\n",
    "print(my_dict)\n",
    "x=my_dict[\"Model\"]\n",
    "print(x)\n",
    "x=my_dict.get(\"Model\")\n",
    "print(x)\n",
    "# edit\n",
    "my_dict={ \"Brand\":\"Honda\",\n",
    "          \"Model\":\"Honda-Town\",\n",
    "          \"Year\":2022\n",
    "         }\n",
    "print(my_dict)\n",
    "x=my_dict[\"Model\"]\n",
    "print(x)\n",
    "x=my_dict.get(\"Model\")\n",
    "print(x)"
   ]
  },
  {
   "cell_type": "code",
   "execution_count": 11,
   "id": "51580899",
   "metadata": {},
   "outputs": [
    {
     "name": "stdout",
     "output_type": "stream",
     "text": [
      "{'Brand': 'Honda', 'Model': 'Honda-Town', 'Year': 2022}\n",
      "Brand\n",
      "Model\n",
      "Year\n"
     ]
    }
   ],
   "source": [
    "my_dict={ \"Brand\":\"Honda\",\n",
    "          \"Model\":\"Honda-Town\",\n",
    "          \"Year\":2022\n",
    "         }\n",
    "print(my_dict)\n",
    "for i in my_dict:\n",
    "  print(i)"
   ]
  },
  {
   "cell_type": "code",
   "execution_count": 12,
   "id": "256f099d",
   "metadata": {},
   "outputs": [
    {
     "name": "stdout",
     "output_type": "stream",
     "text": [
      "Honda\n",
      "Honda-Town\n",
      "2022\n"
     ]
    }
   ],
   "source": [
    "my_dict={ \"Brand\":\"Honda\",\n",
    "          \"Model\":\"Honda-Town\",\n",
    "          \"Year\":2022\n",
    "         }\n",
    "for i in my_dict:\n",
    "  print(my_dict[i])"
   ]
  },
  {
   "cell_type": "code",
   "execution_count": 13,
   "id": "c59ea970",
   "metadata": {},
   "outputs": [
    {
     "name": "stdout",
     "output_type": "stream",
     "text": [
      "Honda\n",
      "Honda-Town\n",
      "2022\n"
     ]
    }
   ],
   "source": [
    "my_dict={ \"Brand\":\"Honda\",\n",
    "          \"Model\":\"Honda-Town\",\n",
    "          \"Year\":2022\n",
    "         }\n",
    "for i in my_dict.values():\n",
    "  print(i)"
   ]
  },
  {
   "cell_type": "code",
   "execution_count": 14,
   "id": "ace8b8ae",
   "metadata": {},
   "outputs": [
    {
     "name": "stdout",
     "output_type": "stream",
     "text": [
      "Brand  :  Honda\n",
      "Model  :  Honda-Town\n",
      "Year  :  2022\n"
     ]
    }
   ],
   "source": [
    "my_dict={ \"Brand\":\"Honda\",\n",
    "          \"Model\":\"Honda-Town\",\n",
    "          \"Year\":2022\n",
    "         }\n",
    "for i,j in my_dict.items():\n",
    "  print(i,\" : \",j)"
   ]
  },
  {
   "cell_type": "code",
   "execution_count": 15,
   "id": "dc44902d",
   "metadata": {},
   "outputs": [
    {
     "name": "stdout",
     "output_type": "stream",
     "text": [
      "Present\n"
     ]
    }
   ],
   "source": [
    "if \"Model\" in my_dict:\n",
    "  print(\"Present\")"
   ]
  },
  {
   "cell_type": "code",
   "execution_count": 16,
   "id": "6c09adaa",
   "metadata": {},
   "outputs": [
    {
     "name": "stdout",
     "output_type": "stream",
     "text": [
      "Not Present\n"
     ]
    }
   ],
   "source": [
    "if \"modul\" not in my_dict:\n",
    "  print(\"Not Present\")"
   ]
  },
  {
   "cell_type": "code",
   "execution_count": 17,
   "id": "f8234134",
   "metadata": {},
   "outputs": [
    {
     "name": "stdout",
     "output_type": "stream",
     "text": [
      "3\n"
     ]
    }
   ],
   "source": [
    "print(len(my_dict))"
   ]
  },
  {
   "cell_type": "code",
   "execution_count": 18,
   "id": "0c9ea0db",
   "metadata": {},
   "outputs": [
    {
     "name": "stdout",
     "output_type": "stream",
     "text": [
      "{'Brand': 'Honda', 'Model': 'Honda-Town', 'Year': 2022, 'Colour : ': 'Red'}\n"
     ]
    }
   ],
   "source": [
    "my_dict[\"Colour : \"]=\"Red\"\n",
    "print(my_dict)"
   ]
  },
  {
   "cell_type": "code",
   "execution_count": 19,
   "id": "00423840",
   "metadata": {},
   "outputs": [
    {
     "name": "stdout",
     "output_type": "stream",
     "text": [
      "{'Brand': 'Honda', 'Year': 2022, 'Colour : ': 'Red'}\n"
     ]
    }
   ],
   "source": [
    "my_dict.pop(\"Model\")\n",
    "print(my_dict)"
   ]
  },
  {
   "cell_type": "code",
   "execution_count": 20,
   "id": "81fc85fe",
   "metadata": {},
   "outputs": [
    {
     "name": "stdout",
     "output_type": "stream",
     "text": [
      "{'Brand': 'Honda', 'Year': 2022}\n"
     ]
    }
   ],
   "source": [
    "my_dict.popitem()\n",
    "print(my_dict)"
   ]
  },
  {
   "cell_type": "code",
   "execution_count": 21,
   "id": "96855519",
   "metadata": {},
   "outputs": [
    {
     "name": "stdout",
     "output_type": "stream",
     "text": [
      "{'Brand': 'Honda'}\n"
     ]
    }
   ],
   "source": [
    "del my_dict[\"Year\"]\n",
    "print(my_dict)"
   ]
  },
  {
   "cell_type": "code",
   "execution_count": 22,
   "id": "44e240e5",
   "metadata": {},
   "outputs": [
    {
     "name": "stdout",
     "output_type": "stream",
     "text": [
      "{}\n"
     ]
    }
   ],
   "source": [
    "my_dict.clear()\n",
    "print(my_dict)"
   ]
  },
  {
   "cell_type": "code",
   "execution_count": 23,
   "id": "a23ddba0",
   "metadata": {},
   "outputs": [
    {
     "ename": "NameError",
     "evalue": "name 'my_dict' is not defined",
     "output_type": "error",
     "traceback": [
      "\u001b[1;31m---------------------------------------------------------------------------\u001b[0m",
      "\u001b[1;31mNameError\u001b[0m                                 Traceback (most recent call last)",
      "Cell \u001b[1;32mIn[23], line 2\u001b[0m\n\u001b[0;32m      1\u001b[0m \u001b[38;5;28;01mdel\u001b[39;00m my_dict\n\u001b[1;32m----> 2\u001b[0m \u001b[38;5;28mprint\u001b[39m(\u001b[43mmy_dict\u001b[49m)\n",
      "\u001b[1;31mNameError\u001b[0m: name 'my_dict' is not defined"
     ]
    }
   ],
   "source": [
    "del my_dict\n",
    "print(my_dict)"
   ]
  },
  {
   "cell_type": "code",
   "execution_count": 24,
   "id": "e4bd36d8",
   "metadata": {},
   "outputs": [
    {
     "name": "stdout",
     "output_type": "stream",
     "text": [
      "{'Brand': 'Honda', 'Model': 'Honda-Town', 'Year': 2022}\n"
     ]
    }
   ],
   "source": [
    "my_dict={ \"Brand\":\"Honda\",\n",
    "          \"Model\":\"Honda-Town\",\n",
    "          \"Year\":2022\n",
    "         }\n",
    "MY_Dict=my_dict.copy()\n",
    "print(MY_Dict)"
   ]
  },
  {
   "cell_type": "code",
   "execution_count": 25,
   "id": "ed4ed557",
   "metadata": {},
   "outputs": [
    {
     "name": "stdout",
     "output_type": "stream",
     "text": [
      "{'Brand': 'Honda', 'Model': 'Honda-Town', 'Year': 2022}\n"
     ]
    }
   ],
   "source": [
    "JIS=dict(my_dict)\n",
    "print(JIS)"
   ]
  },
  {
   "cell_type": "code",
   "execution_count": 26,
   "id": "73b281c5",
   "metadata": {},
   "outputs": [
    {
     "name": "stdout",
     "output_type": "stream",
     "text": [
      "{'Brand': 'Honda', 'Model': 'Honda-Town', 'Year': 2022, 'Colour': 'Red'}\n"
     ]
    }
   ],
   "source": [
    "MY=dict(Brand=\"Honda\",Model=\"Honda-Town\",Year=2022,Colour=\"Red\")\n",
    "print(MY)"
   ]
  },
  {
   "cell_type": "code",
   "execution_count": 27,
   "id": "fb6cbd2e",
   "metadata": {},
   "outputs": [
    {
     "name": "stdout",
     "output_type": "stream",
     "text": [
      "{'Baivab': 20, 'Arpan': 30, 'Ayan': 40, 'Bhismadev': 50}\n"
     ]
    }
   ],
   "source": [
    "d1={'Baivab':20,'Arpan':30}\n",
    "d2={'Ayan':40,'Bhismadev':50}\n",
    "d1.update(d2)\n",
    "print(d1)"
   ]
  },
  {
   "cell_type": "code",
   "execution_count": 28,
   "id": "8d4d79f9",
   "metadata": {},
   "outputs": [
    {
     "name": "stdout",
     "output_type": "stream",
     "text": [
      "The original dictionary 1: {'ROLL1': 45, 'ROLL2': 30, 'ROLL3': 39}\n",
      "The original dictionary 1: {'ROLL1': 10, 'ROLL2': 20, 'ROLL3': 30}\n",
      "The difference dictionary is: {'ROLL1': -35, 'ROLL2': -10, 'ROLL3': -9}\n"
     ]
    }
   ],
   "source": [
    "test_dict1={\n",
    "    'ROLL1':45,\n",
    "    'ROLL2':30,\n",
    "    'ROLL3':39\n",
    "}\n",
    "test_dict2={\n",
    "    'ROLL1':10,\n",
    "    'ROLL2':20,\n",
    "    'ROLL3':30\n",
    "}\n",
    "print(\"The original dictionary 1: \" + str(test_dict1))\n",
    "print(\"The original dictionary 1: \" + str(test_dict2))\n",
    "res={ key: test_dict2[key]-test_dict1.get(key,0) for key in test_dict2.keys() }\n",
    "print(\"The difference dictionary is: \"+str(res))"
   ]
  },
  {
   "cell_type": "code",
   "execution_count": 29,
   "id": "2a614391",
   "metadata": {},
   "outputs": [
    {
     "name": "stdout",
     "output_type": "stream",
     "text": [
      "The original dictionary 1: {'gfg': 6, 'is': 4, 'best': 7}\n",
      "The original dictionary 1: {'gfg': 10, 'is': 6, 'best': 10}\n",
      "The difference dictionary is: {'gfg': 4, 'is': 2, 'best': 3}\n"
     ]
    }
   ],
   "source": [
    "test_dict1={\n",
    "    'gfg':6,\n",
    "    'is':4,\n",
    "    'best':7\n",
    "}\n",
    "test_dict2={\n",
    "    'gfg':10,\n",
    "    'is':6,\n",
    "    'best':10\n",
    "}\n",
    "print(\"The original dictionary 1: \" + str(test_dict1))\n",
    "print(\"The original dictionary 1: \" + str(test_dict2))\n",
    "res={ key: test_dict2[key]-test_dict1.get(key,0) for key in test_dict2.keys() }\n",
    "print(\"The difference dictionary is: \"+str(res))"
   ]
  },
  {
   "cell_type": "markdown",
   "id": "813bfec1",
   "metadata": {},
   "source": [
    "# from collections import Counter"
   ]
  },
  {
   "cell_type": "code",
   "execution_count": 30,
   "id": "13336c02",
   "metadata": {},
   "outputs": [
    {
     "name": "stdout",
     "output_type": "stream",
     "text": [
      "The Difference Dictionary is  : {'gfg': 4, 'is': 2, 'best': 3}\n",
      "The Difference Dictionary is  : {}\n"
     ]
    }
   ],
   "source": [
    "from collections import Counter\n",
    "temp1=Counter(test_dict1)\n",
    "temp2=Counter(test_dict2)\n",
    "res=temp2-temp1\n",
    "print(\"The Difference Dictionary is  : \"+str(dict(res)))\n",
    "res=temp1-temp2\n",
    "print(\"The Difference Dictionary is  : \"+str(dict(res)))"
   ]
  }
 ],
 "metadata": {
  "kernelspec": {
   "display_name": "Python 3 (ipykernel)",
   "language": "python",
   "name": "python3"
  },
  "language_info": {
   "codemirror_mode": {
    "name": "ipython",
    "version": 3
   },
   "file_extension": ".py",
   "mimetype": "text/x-python",
   "name": "python",
   "nbconvert_exporter": "python",
   "pygments_lexer": "ipython3",
   "version": "3.10.9"
  }
 },
 "nbformat": 4,
 "nbformat_minor": 5
}
