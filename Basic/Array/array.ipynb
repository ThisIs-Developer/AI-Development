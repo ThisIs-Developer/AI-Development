{
 "cells": [
  {
   "cell_type": "markdown",
   "id": "e0fe935a",
   "metadata": {},
   "source": [
    "# normal array"
   ]
  },
  {
   "cell_type": "code",
   "execution_count": 1,
   "id": "d95fb3e0",
   "metadata": {},
   "outputs": [
    {
     "name": "stdout",
     "output_type": "stream",
     "text": [
      "[]\n",
      "List is =  [45, -45]\n",
      "['Baivab', 45, -45, 45.0]\n",
      "45\n",
      "45.0\n",
      "[45, -45]\n"
     ]
    }
   ],
   "source": [
    "arr=[]\n",
    "print(arr)\n",
    "arr1=[45,-45]\n",
    "print(\"List is = \",arr1)\n",
    "arr2=['Baivab',45,-45,45.0]\n",
    "print(arr2)\n",
    "print(arr2[1])\n",
    "print(arr2[-1])\n",
    "print(arr2[1:3])"
   ]
  },
  {
   "cell_type": "code",
   "execution_count": 2,
   "id": "34632cc1",
   "metadata": {},
   "outputs": [
    {
     "name": "stdout",
     "output_type": "stream",
     "text": [
      "[1, 2]\n",
      "[10, 9, 8, 7, 6]\n",
      "[10, 8, 6]\n",
      "[3, 4, 5, 6, 7, 8, 9, 10]\n"
     ]
    }
   ],
   "source": [
    " arr=[1,2,3,4,5,6,7,8,9,10]\n",
    " print(arr[:2])\n",
    " print(arr[-1:-6:-1])\n",
    " print(arr[-1:-6:-2])\n",
    " print(arr[2:])"
   ]
  },
  {
   "cell_type": "code",
   "execution_count": 3,
   "id": "66997612",
   "metadata": {},
   "outputs": [
    {
     "name": "stdout",
     "output_type": "stream",
     "text": [
      "[1, 2, 3, 4, 5, 6, 7, 8, 9, 10, 11]\n",
      "[0, 1, 2, 3, 4, 5, 6, 7, 8, 9, 10, 11]\n"
     ]
    }
   ],
   "source": [
    "arr.append(11)\n",
    "print(arr)\n",
    "arr.insert(0,0)\n",
    "print(arr)"
   ]
  },
  {
   "cell_type": "code",
   "execution_count": 4,
   "id": "835df170",
   "metadata": {},
   "outputs": [
    {
     "name": "stdout",
     "output_type": "stream",
     "text": [
      "After delete list is :  [1, 3, 4, 5, 6, 7, 8, 9, 10]\n",
      "After delete list is :  [1, 6, 7, 8, 9, 10]\n",
      "After remove list is :  [1, 6, 7, 8, 9]\n"
     ]
    }
   ],
   "source": [
    " arr=[1,2,3,4,5,6,7,8,9,10]\n",
    " del arr[1]\n",
    " print(\"After delete list is : \",arr)\n",
    " del arr[1:4]\n",
    " print(\"After delete list is : \",arr)\n",
    " arr.remove(10)\n",
    " print(\"After remove list is : \",arr)"
   ]
  },
  {
   "cell_type": "code",
   "execution_count": 5,
   "id": "4424362c",
   "metadata": {},
   "outputs": [
    {
     "name": "stdout",
     "output_type": "stream",
     "text": [
      "[100, 200, 300, 400]\n",
      "[100, 200, 250, 400]\n"
     ]
    }
   ],
   "source": [
    " arr=[100,200,300,400]\n",
    " print(arr)\n",
    " arr[2]=250\n",
    " print(arr)"
   ]
  },
  {
   "cell_type": "code",
   "execution_count": 6,
   "id": "af5a4dc6",
   "metadata": {},
   "outputs": [
    {
     "name": "stdout",
     "output_type": "stream",
     "text": [
      "After extend list is :  [45, -45, 'Baivab', 45, -45, 45.0]\n"
     ]
    }
   ],
   "source": [
    "arr1=[45,-45]\n",
    "arr2=['Baivab',45,-45,45.0]\n",
    "arr1.extend(arr2)\n",
    "print(\"After extend list is : \",arr1)"
   ]
  },
  {
   "cell_type": "code",
   "execution_count": 7,
   "id": "994c05df",
   "metadata": {},
   "outputs": [
    {
     "name": "stdout",
     "output_type": "stream",
     "text": [
      "6\n"
     ]
    }
   ],
   "source": [
    "print(len(arr1))"
   ]
  },
  {
   "cell_type": "code",
   "execution_count": 8,
   "id": "3307484f",
   "metadata": {},
   "outputs": [
    {
     "name": "stdout",
     "output_type": "stream",
     "text": [
      "False\n",
      "True\n",
      "After pop list is :  ['A', 'B', 'C', 'D', 'E']\n",
      "E\n"
     ]
    }
   ],
   "source": [
    "arr=['A','B','C','D','E','F']\n",
    "print(2 in arr)\n",
    "print('A' in arr)\n",
    "arr.pop()\n",
    "print(\"After pop list is : \",arr)\n",
    "temp=arr.pop()\n",
    "print(temp)"
   ]
  },
  {
   "cell_type": "code",
   "execution_count": 9,
   "id": "fd8c2b4e",
   "metadata": {},
   "outputs": [
    {
     "name": "stdout",
     "output_type": "stream",
     "text": [
      "After clear list is :  []\n",
      "[]\n"
     ]
    }
   ],
   "source": [
    "arr=['A','B','C','D','E','F']\n",
    "arr.clear()\n",
    "print(\"After clear list is : \",arr)\n",
    "# del arr\n",
    "print(arr)"
   ]
  },
  {
   "cell_type": "code",
   "execution_count": 10,
   "id": "da0a8734",
   "metadata": {},
   "outputs": [
    {
     "name": "stdout",
     "output_type": "stream",
     "text": [
      "1\n",
      "4\n",
      "After sort list is :  [-5, 1, 2, 2, 2, 2, 3, 4, 7]\n",
      "After reverse list is :  [7, 4, 3, 2, 2, 2, 2, 1, -5]\n",
      "After copy list is :  [7, 4, 3, 2, 2, 2, 2, 1, -5]\n"
     ]
    }
   ],
   "source": [
    "arr=[1,2,3,2,2,7,-5,4,2]\n",
    "print(arr.index(2))\n",
    "print(arr.count(2))\n",
    "arr.sort()\n",
    "print(\"After sort list is : \",arr)\n",
    "arr.reverse()\n",
    "print(\"After reverse list is : \",arr)\n",
    "brr=arr.copy()# shallow copy\n",
    "print(\"After copy list is : \",brr)\n",
    "# another type is Deep copy"
   ]
  },
  {
   "cell_type": "code",
   "execution_count": 11,
   "id": "7f3922b8",
   "metadata": {},
   "outputs": [
    {
     "name": "stdout",
     "output_type": "stream",
     "text": [
      "1785774515584     1785774500736\n",
      "9\n",
      "<class 'list'>\n"
     ]
    }
   ],
   "source": [
    "print(id(arr) ,\"   \",id(brr))\n",
    "print(len(arr))\n",
    "print(type(arr))"
   ]
  },
  {
   "cell_type": "code",
   "execution_count": 12,
   "id": "b2ed5a1d",
   "metadata": {},
   "outputs": [
    {
     "name": "stdout",
     "output_type": "stream",
     "text": [
      "67\tGood\n",
      "33\tGood\n",
      "55\tGood\n",
      "91\tGood\n",
      "-6\tGood\n",
      "7\tGood\n"
     ]
    }
   ],
   "source": [
    "x=[67,33,55,91,-6,7]\n",
    "for temp in x:\n",
    "  print(temp,end=\"\\t\")\n",
    "  print(\"Good\")"
   ]
  },
  {
   "cell_type": "code",
   "execution_count": 13,
   "id": "c8a6cd55",
   "metadata": {},
   "outputs": [
    {
     "name": "stdout",
     "output_type": "stream",
     "text": [
      "67\tBed\n",
      "33\tBed\n",
      "55\tBed\n",
      "91\tBed\n",
      "-6\tBed\n",
      "7\tBed\n"
     ]
    }
   ],
   "source": [
    "l=len(x)\n",
    "for i in range(0,len(x)):\n",
    "# for i in range(len(x)):\n",
    "  print(x[i],end=\"\\t\")\n",
    "  print(\"Bed\")"
   ]
  },
  {
   "cell_type": "code",
   "execution_count": 14,
   "id": "5972849c",
   "metadata": {},
   "outputs": [
    {
     "name": "stdout",
     "output_type": "stream",
     "text": [
      "(1, 2, 3)\n",
      "2\n",
      "1 2 3 "
     ]
    }
   ],
   "source": [
    "arr=(1,2,3)\n",
    "print(arr)\n",
    "print(arr[1])\n",
    "# arr.append(90) \n",
    "# arr[1]=90\n",
    "# del arr\n",
    "for i in arr:\n",
    "  print(i,end=' ')"
   ]
  },
  {
   "cell_type": "code",
   "execution_count": 15,
   "id": "df37ad02",
   "metadata": {},
   "outputs": [
    {
     "name": "stdout",
     "output_type": "stream",
     "text": [
      "{'Baivab', 'Ayan', 'Bhishmadev', 'Arpan'}\n",
      "\n",
      "Baivab Ayan Bhishmadev Arpan \n",
      "\n",
      "{'Ayan', 'Bhishmadev', 'Jayshree', 'Arpan', 'Baivab'}\n",
      "\n",
      "{'Ayan', 'Bhishmadev', 'Jayshree', 'Dipanjan', 'Arpan', 'Baivab', 'Shilpi'}\n",
      "\n",
      "{'Ayan', 'Bhishmadev', 'Jayshree', 'Dipanjan', 'Arpan', 'Baivab'}\n",
      "\n",
      "{'Ayan', 'Bhishmadev', 'Jayshree', 'Arpan', 'Baivab'}\n",
      "\n",
      "{'Bhishmadev', 'Jayshree', 'Arpan', 'Baivab'}\n"
     ]
    }
   ],
   "source": [
    "arr={'Baivab','Ayan','Arpan','Bhishmadev'}\n",
    "print(arr)\n",
    "print()\n",
    "\n",
    "for temp in arr:\n",
    "  print(temp, end= ' ')\n",
    "print()\n",
    "\n",
    "arr.add('Jayshree')\n",
    "print()\n",
    "print(arr)\n",
    "\n",
    "print()\n",
    "arr.update(['Shilpi',\"Dipanjan\"])\n",
    "print(arr)\n",
    "\n",
    "arr.remove('Shilpi')\n",
    "print()\n",
    "print(arr)\n",
    "\n",
    "arr.discard('Dipanjan')\n",
    "print()\n",
    "print(arr)\n",
    "\n",
    "arr.pop()\n",
    "print()\n",
    "print(arr)"
   ]
  },
  {
   "cell_type": "markdown",
   "id": "14d3d918",
   "metadata": {},
   "source": [
    "# import array"
   ]
  },
  {
   "cell_type": "code",
   "execution_count": 16,
   "id": "d0f10972",
   "metadata": {},
   "outputs": [
    {
     "name": "stdout",
     "output_type": "stream",
     "text": [
      "array('i', [1, 2, 3])\n",
      "The new created array is : \n",
      "1 2 3 "
     ]
    }
   ],
   "source": [
    "import array as ar\n",
    "arr=ar.array('i',[1,2,3])\n",
    "print(arr)\n",
    "print(\"The new created array is : \")\n",
    "for i in range(0,3):\n",
    "  print(arr[i],end=' ')"
   ]
  },
  {
   "cell_type": "code",
   "execution_count": 17,
   "id": "6a9aa4d2",
   "metadata": {},
   "outputs": [
    {
     "name": "stdout",
     "output_type": "stream",
     "text": [
      "After insert array is : \n",
      "1 2 3 4 "
     ]
    }
   ],
   "source": [
    "arr.insert(3,4)\n",
    "print(\"After insert array is : \")\n",
    "for i in range(0,4):\n",
    "  print(arr[i],end=' ')"
   ]
  },
  {
   "cell_type": "code",
   "execution_count": 18,
   "id": "fc7804b5",
   "metadata": {},
   "outputs": [
    {
     "name": "stdout",
     "output_type": "stream",
     "text": [
      "After append array is : \n",
      "1 2 3 4 5 "
     ]
    }
   ],
   "source": [
    "arr.append(5)\n",
    "print(\"After append array is : \")\n",
    "for i in range(0,5):\n",
    "  print(arr[i],end=' ')"
   ]
  },
  {
   "cell_type": "code",
   "execution_count": 19,
   "id": "bc659dbf",
   "metadata": {},
   "outputs": [
    {
     "name": "stdout",
     "output_type": "stream",
     "text": [
      "The poped element is : \n",
      "3\n",
      "After pop array is :\n",
      "1 2 4 5 "
     ]
    }
   ],
   "source": [
    "print(\"The poped element is : \")\n",
    "print(arr.pop(2))\n",
    "print(\"After pop array is :\")\n",
    "for i in range(0,4):\n",
    "  print(arr[i],end=' ')"
   ]
  },
  {
   "cell_type": "code",
   "execution_count": 20,
   "id": "e0275c8d",
   "metadata": {},
   "outputs": [
    {
     "name": "stdout",
     "output_type": "stream",
     "text": [
      "After remove array is : \n",
      "1 2 4 "
     ]
    }
   ],
   "source": [
    "arr.remove(5)\n",
    "print(\"After remove array is : \")\n",
    "for i in range(0,3):\n",
    "  print(arr[i],end=' ')"
   ]
  },
  {
   "cell_type": "code",
   "execution_count": 21,
   "id": "c8f98140",
   "metadata": {},
   "outputs": [
    {
     "name": "stdout",
     "output_type": "stream",
     "text": [
      "The index of 1st occourence of 2 is : \n",
      "1\n"
     ]
    }
   ],
   "source": [
    "print(\"The index of 1st occourence of 2 is : \")\n",
    "print(arr.index(2))"
   ]
  },
  {
   "cell_type": "code",
   "execution_count": 22,
   "id": "ba64c5a6",
   "metadata": {},
   "outputs": [
    {
     "name": "stdout",
     "output_type": "stream",
     "text": [
      "After reverse array is : \n",
      "4 2 1 "
     ]
    }
   ],
   "source": [
    "arr.reverse()\n",
    "print(\"After reverse array is : \")\n",
    "for i in range(0,3):\n",
    "  print(arr[i],end=' ')"
   ]
  },
  {
   "cell_type": "code",
   "execution_count": 23,
   "id": "75c78ecc",
   "metadata": {},
   "outputs": [
    {
     "name": "stdout",
     "output_type": "stream",
     "text": [
      "The datatype of array is : \n",
      "L\n",
      "<class 'array.array'>\n"
     ]
    }
   ],
   "source": [
    "import array as ar\n",
    "arr=ar.array('L',[1,2,3,1,2,3])\n",
    "print(\"The datatype of array is : \")\n",
    "print(arr.typecode)\n",
    "print(type(arr))"
   ]
  },
  {
   "cell_type": "code",
   "execution_count": 24,
   "id": "7efef97c",
   "metadata": {},
   "outputs": [
    {
     "name": "stdout",
     "output_type": "stream",
     "text": [
      "The itemsize of array is : \n",
      "4\n",
      "6\n"
     ]
    }
   ],
   "source": [
    "print(\"The itemsize of array is : \")\n",
    "print(arr.itemsize)\n",
    "print(len(arr))"
   ]
  },
  {
   "cell_type": "code",
   "execution_count": 25,
   "id": "835eef5b",
   "metadata": {},
   "outputs": [
    {
     "name": "stdout",
     "output_type": "stream",
     "text": [
      "The Buffer info of array is : \n",
      "(1785773780272, 6)\n"
     ]
    },
    {
     "data": {
      "text/plain": [
       "(None, '\\nid : ', 1785774667504)"
      ]
     },
     "execution_count": 25,
     "metadata": {},
     "output_type": "execute_result"
    }
   ],
   "source": [
    "print(\"The Buffer info of array is : \")\n",
    "print(arr.buffer_info()),\"\\nid : \",id(arr)"
   ]
  },
  {
   "cell_type": "code",
   "execution_count": 26,
   "id": "24edcd18",
   "metadata": {},
   "outputs": [
    {
     "name": "stdout",
     "output_type": "stream",
     "text": [
      "The occorence of 1st array is :\n",
      "1\n"
     ]
    }
   ],
   "source": [
    "import array as ar\n",
    "arr1=ar.array('i',[1,2,3])\n",
    "arr2=ar.array('i',[4,5,6])\n",
    "print(\"The occorence of 1st array is :\")\n",
    "print(arr1.count(1))"
   ]
  },
  {
   "cell_type": "code",
   "execution_count": 27,
   "id": "0cad5841",
   "metadata": {},
   "outputs": [
    {
     "name": "stdout",
     "output_type": "stream",
     "text": [
      "The modified array : \n",
      "1 2 3 4 5 6 "
     ]
    }
   ],
   "source": [
    "arr1.extend(arr2)\n",
    "print(\"The modified array : \")\n",
    "for i in range(0,6):\n",
    "  print(arr1[i],end=' ')"
   ]
  },
  {
   "cell_type": "code",
   "execution_count": 28,
   "id": "22267543",
   "metadata": {},
   "outputs": [
    {
     "name": "stdout",
     "output_type": "stream",
     "text": [
      "The modified array is : \n",
      "1 2 3 4 5 6 7 8 9 "
     ]
    }
   ],
   "source": [
    "import array as ar\n",
    "arr=ar.array('i',[1,2,3,4,5,6])\n",
    "li=[7,8,9]\n",
    "arr.fromlist(li)\n",
    "print(\"The modified array is : \")\n",
    "for i in range(0,9):\n",
    "  print(arr[i],end=' ')"
   ]
  },
  {
   "cell_type": "code",
   "execution_count": 29,
   "id": "dadb8c87",
   "metadata": {},
   "outputs": [
    {
     "name": "stdout",
     "output_type": "stream",
     "text": [
      "\r\n",
      "The new list created is : \n",
      "1 2 3 4 5 6 7 8 9  \n",
      "[1, 2, 3, 4, 5, 6, 7, 8, 9]\n"
     ]
    }
   ],
   "source": [
    "li2=arr.tolist()\n",
    "print(\"\\r\")\n",
    "print(\"The new list created is : \")\n",
    "for i in range(0,len(li2)):\n",
    "  print(li2[i],end=' ')\n",
    "print(\" \")\n",
    "print(li2)"
   ]
  }
 ],
 "metadata": {
  "kernelspec": {
   "display_name": "Python 3 (ipykernel)",
   "language": "python",
   "name": "python3"
  },
  "language_info": {
   "codemirror_mode": {
    "name": "ipython",
    "version": 3
   },
   "file_extension": ".py",
   "mimetype": "text/x-python",
   "name": "python",
   "nbconvert_exporter": "python",
   "pygments_lexer": "ipython3",
   "version": "3.10.9"
  }
 },
 "nbformat": 4,
 "nbformat_minor": 5
}
