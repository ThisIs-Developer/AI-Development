{
 "cells": [
  {
   "cell_type": "code",
   "execution_count": 1,
   "id": "08b72f9f",
   "metadata": {},
   "outputs": [
    {
     "name": "stdout",
     "output_type": "stream",
     "text": [
      "['apple', 'banana', 'mango']\n"
     ]
    }
   ],
   "source": [
    "fruits=['apple','banana','cherry','kiwi','mango']\n",
    "newlist=[]\n",
    "for i in fruits:\n",
    "  if \"a\" in i:\n",
    "    newlist.append(i)\n",
    "print(newlist)"
   ]
  },
  {
   "cell_type": "code",
   "execution_count": 2,
   "id": "25b78c63",
   "metadata": {},
   "outputs": [
    {
     "name": "stdout",
     "output_type": "stream",
     "text": [
      "['apple', 'banana', 'mango']\n"
     ]
    }
   ],
   "source": [
    "fruits=['apple','banana','cherry','kiwi','mango']\n",
    "my=[i for i in fruits if \"a\" in i]\n",
    "print(my)"
   ]
  },
  {
   "cell_type": "code",
   "execution_count": 3,
   "id": "1975bcd6",
   "metadata": {},
   "outputs": [
    {
     "name": "stdout",
     "output_type": "stream",
     "text": [
      "[0, 5, 10, 15]\n"
     ]
    }
   ],
   "source": [
    "new=[i for i in range(20) if i%5==0]\n",
    "print(new)"
   ]
  },
  {
   "cell_type": "code",
   "execution_count": 4,
   "id": "8fc3f51b",
   "metadata": {},
   "outputs": [
    {
     "name": "stdout",
     "output_type": "stream",
     "text": [
      "['APPLE', 'BANANA', 'CHERRY', 'KIWI', 'MANGO']\n"
     ]
    }
   ],
   "source": [
    "t=[i.upper() for i in fruits]\n",
    "print(t)"
   ]
  },
  {
   "cell_type": "code",
   "execution_count": 5,
   "id": "49d4461e",
   "metadata": {},
   "outputs": [
    {
     "name": "stdout",
     "output_type": "stream",
     "text": [
      "['Hello', 'Hello', 'Hello', 'Hello', 'Hello']\n"
     ]
    }
   ],
   "source": [
    "m=['Hello' for i in fruits]\n",
    "print(m)"
   ]
  },
  {
   "cell_type": "code",
   "execution_count": 6,
   "id": "ff3e0d8d",
   "metadata": {},
   "outputs": [
    {
     "name": "stdout",
     "output_type": "stream",
     "text": [
      "['apple', 'orange', 'cherry', 'kiwi', 'mango']\n"
     ]
    }
   ],
   "source": [
    "m=[i if i!=\"banana\" else \"orange\" for i in fruits]\n",
    "print(m)"
   ]
  }
 ],
 "metadata": {
  "kernelspec": {
   "display_name": "Python 3 (ipykernel)",
   "language": "python",
   "name": "python3"
  },
  "language_info": {
   "codemirror_mode": {
    "name": "ipython",
    "version": 3
   },
   "file_extension": ".py",
   "mimetype": "text/x-python",
   "name": "python",
   "nbconvert_exporter": "python",
   "pygments_lexer": "ipython3",
   "version": "3.10.9"
  }
 },
 "nbformat": 4,
 "nbformat_minor": 5
}
