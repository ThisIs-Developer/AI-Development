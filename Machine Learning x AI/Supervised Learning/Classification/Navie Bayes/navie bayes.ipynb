{
 "cells": [
  {
   "cell_type": "markdown",
   "id": "348c4455",
   "metadata": {},
   "source": [
    "# ***Navie Bayes***\n",
    "\n",
    "    Total = 60\n",
    "    no of 0 type = 20\n",
    "    no of 1 type = 40\n",
    "\n",
    "**Prior Probability**\n",
    "\n",
    "    m being 0 type = 20/60\n",
    "    n being 1 type = 40/60\n",
    "\n",
    "**Likelihood Probability**\n",
    "\n",
    "    m being 0 type = 1/20\n",
    "    n being 1 type = 2/40\n",
    "\n",
    "**Posterion Probability**\n",
    "\n",
    "    m being 0 type = 20/60 * 1/20 = 1/60\n",
    "    n being 1 type = 40/60 * 2/40 = 2/60\n",
    "\n",
    "1. Gaussion : Normal distribution\n",
    "2. Multinomial : Multiclass & Binary\n",
    "3. Burnolli : Binary/frequency"
   ]
  },
  {
   "cell_type": "code",
   "execution_count": 2,
   "id": "6871a0f4",
   "metadata": {},
   "outputs": [
    {
     "name": "stdout",
     "output_type": "stream",
     "text": [
      "      User ID  Gender  Age  EstimatedSalary  Purchased\n",
      "0    15624510    Male   19            19000          0\n",
      "1    15810944    Male   35            20000          0\n",
      "2    15668575  Female   26            43000          0\n",
      "3    15603246  Female   27            57000          0\n",
      "4    15804002    Male   19            76000          0\n",
      "..        ...     ...  ...              ...        ...\n",
      "395  15691863  Female   46            41000          1\n",
      "396  15706071    Male   51            23000          1\n",
      "397  15654296  Female   50            20000          1\n",
      "398  15755018    Male   36            33000          0\n",
      "399  15594041  Female   49            36000          1\n",
      "\n",
      "[400 rows x 5 columns]\n"
     ]
    }
   ],
   "source": [
    "import pandas as pd\n",
    "df=pd.read_csv(\"Social_Network_Ads.csv\")\n",
    "print(df)\n",
    "x=df.iloc[:,[2,3]].values\n",
    "y=df.iloc[:,4].values\n",
    "from sklearn.model_selection import train_test_split\n",
    "x_train, x_test, y_train, y_test = train_test_split(x,y,test_size=.25, random_state=1)"
   ]
  },
  {
   "cell_type": "markdown",
   "id": "08f9e4da",
   "metadata": {},
   "source": [
    "# Gaussion : Normal distribution"
   ]
  },
  {
   "cell_type": "code",
   "execution_count": 3,
   "id": "def89bab",
   "metadata": {},
   "outputs": [
    {
     "name": "stdout",
     "output_type": "stream",
     "text": [
      "0.86\n"
     ]
    }
   ],
   "source": [
    "from sklearn.naive_bayes import GaussianNB\n",
    "sv=GaussianNB()\n",
    "sv.fit(x_train, y_train)\n",
    "y_predict=sv.predict(x_test)\n",
    "from sklearn.metrics import accuracy_score\n",
    "accuracy = accuracy_score(y_test,y_predict)\n",
    "print(accuracy)"
   ]
  },
  {
   "cell_type": "markdown",
   "id": "be94212e",
   "metadata": {},
   "source": [
    "# Multinomial : Multiclass & Binary"
   ]
  },
  {
   "cell_type": "code",
   "execution_count": 4,
   "id": "7de98b2b",
   "metadata": {},
   "outputs": [
    {
     "name": "stdout",
     "output_type": "stream",
     "text": [
      "0.53\n"
     ]
    }
   ],
   "source": [
    "from sklearn.naive_bayes import MultinomialNB\n",
    "sv=MultinomialNB()\n",
    "sv.fit(x_train, y_train)\n",
    "y_predict=sv.predict(x_test)\n",
    "from sklearn.metrics import accuracy_score\n",
    "accuracy = accuracy_score(y_test,y_predict)\n",
    "print(accuracy)"
   ]
  },
  {
   "cell_type": "markdown",
   "id": "e8ebcaf8",
   "metadata": {},
   "source": [
    "# Burnolli : Binary/frequency"
   ]
  },
  {
   "cell_type": "code",
   "execution_count": 5,
   "id": "59522f28",
   "metadata": {},
   "outputs": [
    {
     "name": "stdout",
     "output_type": "stream",
     "text": [
      "0.58\n"
     ]
    }
   ],
   "source": [
    "from sklearn.naive_bayes import BernoulliNB\n",
    "sv=BernoulliNB()\n",
    "sv.fit(x_train, y_train)\n",
    "y_predict=sv.predict(x_test)\n",
    "from sklearn.metrics import accuracy_score\n",
    "accuracy = accuracy_score(y_test,y_predict)\n",
    "print(accuracy)"
   ]
  }
 ],
 "metadata": {
  "kernelspec": {
   "display_name": "Python 3 (ipykernel)",
   "language": "python",
   "name": "python3"
  },
  "language_info": {
   "codemirror_mode": {
    "name": "ipython",
    "version": 3
   },
   "file_extension": ".py",
   "mimetype": "text/x-python",
   "name": "python",
   "nbconvert_exporter": "python",
   "pygments_lexer": "ipython3",
   "version": "3.10.9"
  }
 },
 "nbformat": 4,
 "nbformat_minor": 5
}
