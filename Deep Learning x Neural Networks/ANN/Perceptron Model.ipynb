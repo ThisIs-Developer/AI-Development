{
 "cells": [
  {
   "cell_type": "markdown",
   "id": "10498828",
   "metadata": {},
   "source": [
    "# ANN\n",
    "## Frank Rasenblant"
   ]
  },
  {
   "cell_type": "markdown",
   "id": "7e33eef3",
   "metadata": {},
   "source": [
    "**Write a python code to develope a perceptron model where X is a set of input, W is a set of weightage and bias b is 0**"
   ]
  },
  {
   "cell_type": "code",
   "execution_count": 4,
   "id": "621e3ca2",
   "metadata": {},
   "outputs": [
    {
     "name": "stdout",
     "output_type": "stream",
     "text": [
      "Enter no of values:4\n",
      "Enter the X values:\n",
      "2\n",
      "6\n",
      "8\n",
      "1\n",
      "Enter the W values\n",
      "6\n",
      "9\n",
      "4\n",
      "2\n",
      "X values:  2.0 6.0 8.0 1.0 \n",
      "\n",
      "W values:  6.0 9.0 4.0 2.0 \n",
      "\n",
      "Total  100.0\n",
      "1\n"
     ]
    }
   ],
   "source": [
    "th=1\n",
    "b=0\n",
    "n=int(input(\"Enter no of values:\"))\n",
    "list1 =[]\n",
    "print(\"Enter the X values:\" )\n",
    "for i in range (n):\n",
    "  x=float(input())\n",
    "  list1.append(x)\n",
    "\n",
    "list2=[]\n",
    "print(\"Enter the W values\")\n",
    "for i in range (n):\n",
    "  x=float(input())\n",
    "  list2.append(x)\n",
    "    \n",
    "print(\"X values: \",end=\" \")\n",
    "for i in list1:\n",
    "  print(i,end=\" \")\n",
    "print(\"\\n\")\n",
    "print(\"W values: \",end=\" \")\n",
    "for i in list2:\n",
    "  print(i,end=\" \")\n",
    "print(\"\\n\")\n",
    "\n",
    "total=b\n",
    "for i in range (n):\n",
    "  total+=(list1[i]*list2[i])\n",
    "print(\"Total \",total)\n",
    "\n",
    "if(total>=th):\n",
    "  print(1)\n",
    "else :\n",
    "  print(0)"
   ]
  },
  {
   "cell_type": "code",
   "execution_count": 3,
   "id": "7b8f6e50",
   "metadata": {},
   "outputs": [
    {
     "name": "stdout",
     "output_type": "stream",
     "text": [
      "Enter no of values:4\n",
      "Enter the X1 values:\n",
      "1\n",
      "1\n",
      "1\n",
      "1\n",
      "Enter the X2 values:\n",
      "1\n",
      "0\n",
      "0\n",
      "1\n",
      "Enter the X3 values:\n",
      "0\n",
      "0\n",
      "1\n",
      "1\n",
      "Enter the W values\n",
      "2\n",
      "4\n",
      "1\n",
      "70\n",
      "\n",
      "\n",
      "1\n"
     ]
    }
   ],
   "source": [
    "n=int(input(\"Enter no of values:\"))\n",
    "x1=[]\n",
    "print(\"Enter the X1 values:\" )\n",
    "for i in range (n):\n",
    "  x=float(input())\n",
    "  x1.append(x)\n",
    "    \n",
    "x2=[]\n",
    "print(\"Enter the X2 values:\" )\n",
    "for i in range (n):\n",
    "  x=float(input())\n",
    "  x2.append(x)\n",
    "\n",
    "x3=[]\n",
    "print(\"Enter the X3 values:\" )\n",
    "for i in range (n):\n",
    "  x=float(input())\n",
    "  x3.append(x)\n",
    "\n",
    "W=[]\n",
    "print(\"Enter the W values\")\n",
    "for i in range (n):\n",
    "  x=float(input())\n",
    "  W.append(x)\n",
    "    \n",
    "sum1=0\n",
    "sum2=0\n",
    "sum3=0\n",
    "sum=0\n",
    "\n",
    "for i in range(4):\n",
    "    sum1+=x1[i]*W[i]\n",
    "for i in range(4):\n",
    "    sum2+=x2[i]*W[i]\n",
    "for i in range(4):\n",
    "    sum3+=x3[i]*W[i]\n",
    "sum=sum1+sum2+sum3\n",
    "print(\"\\n\")\n",
    "if sum>=1:\n",
    "    y=1\n",
    "    print(y)\n",
    "else:\n",
    "    y=0\n",
    "    print(y)"
   ]
  },
  {
   "cell_type": "code",
   "execution_count": 1,
   "id": "5998d375",
   "metadata": {},
   "outputs": [
    {
     "name": "stdout",
     "output_type": "stream",
     "text": [
      "Enter row: 3\n",
      "Enter col: 4\n",
      "Table 0\n",
      "1\n",
      "1\n",
      "1\n",
      "1\n",
      "Table 1\n",
      "1\n",
      "0\n",
      "0\n",
      "1\n",
      "Table 2\n",
      "0\n",
      "0\n",
      "1\n",
      "1\n",
      "Output  1  \n",
      "1\n",
      "Output  2  \n",
      "1\n",
      "Output  3  \n",
      "0\n"
     ]
    }
   ],
   "source": [
    "import random\n",
    "def generate(n):\n",
    "    list1=[]\n",
    "    for i in range(n):\n",
    "        y=random.random()\n",
    "        list1.append(y)\n",
    "    return list1\n",
    "\n",
    "def total(n,list1,list2):\n",
    "    total=0\n",
    "    for i in range (n):\n",
    "        total+=(list1[i]*list2[i])\n",
    "    return total\n",
    "\n",
    "th=1\n",
    "b=0\n",
    "x1=[[]]\n",
    "n=int(input(\"Enter row: \"))\n",
    "m=int(input(\"Enter col: \"))\n",
    "\n",
    "for i in range(n):\n",
    "    print(f\"Table {i}\")\n",
    "    list1=[]\n",
    "    for j in range(m):\n",
    "        x=float(input())\n",
    "        list1.append(x)\n",
    "    x1.append(list1)\n",
    "\n",
    "for i in range(n):\n",
    "    w=generate(m)\n",
    "    t=b+total(m,x1[i+1],w)\n",
    "    print(\"Output \", i+1 ,\" \")\n",
    "    if(t>=th):\n",
    "        print(1)\n",
    "    else:\n",
    "        print(0)"
   ]
  },
  {
   "cell_type": "code",
   "execution_count": 3,
   "id": "20bc42e0",
   "metadata": {},
   "outputs": [
    {
     "name": "stdout",
     "output_type": "stream",
     "text": [
      "Not Co Morbid\n"
     ]
    }
   ],
   "source": [
    "import numpy as np\n",
    "x=np.array([0.3,0.25,0.68,0.22])\n",
    "W=np.array([-0.1,0.28,-0.57,0.9])\n",
    "b0=0.5\n",
    "sum=0\n",
    "WT=np.transpose(W)\n",
    "\n",
    "for i in range(4):\n",
    "    sum+=x[i]*WT[i]  \n",
    "y=b0+sum\n",
    "if y>=1:\n",
    "    print(\"NoTMorBid\")\n",
    "else:\n",
    "    print(\"Not Co Morbid\")   "
   ]
  }
 ],
 "metadata": {
  "kernelspec": {
   "display_name": "Python 3 (ipykernel)",
   "language": "python",
   "name": "python3"
  },
  "language_info": {
   "codemirror_mode": {
    "name": "ipython",
    "version": 3
   },
   "file_extension": ".py",
   "mimetype": "text/x-python",
   "name": "python",
   "nbconvert_exporter": "python",
   "pygments_lexer": "ipython3",
   "version": "3.9.13"
  }
 },
 "nbformat": 4,
 "nbformat_minor": 5
}
