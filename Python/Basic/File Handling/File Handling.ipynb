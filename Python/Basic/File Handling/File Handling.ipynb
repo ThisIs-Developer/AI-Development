{
 "cells": [
  {
   "cell_type": "code",
   "execution_count": 11,
   "id": "1211e841",
   "metadata": {},
   "outputs": [],
   "source": [
    "file=open('Fed_28.txt','w')\n",
    "file.write(\"github.com\")\n",
    "file.write(\" : @ThisIs-Developer\")\n",
    "file.write(\"\\nhttps://github.com/ThisIs-Developer\")\n",
    "file.close()"
   ]
  },
  {
   "cell_type": "code",
   "execution_count": 12,
   "id": "199a37e5",
   "metadata": {},
   "outputs": [
    {
     "name": "stdout",
     "output_type": "stream",
     "text": [
      "Repository to store sample Python programs.\n",
      "\n",
      "\n",
      "\n",
      "This repository is meant for beginners to assist them in their learning of Python. The repository covers a wide range of algorithms and other programs, and would prove immensely helpful for everybody interested in Python programming.\n",
      "\n",
      "\n",
      "\n",
      "If this is your first time coding in Python, I would love to suggest you begin from the Basics. They are simple to understand and hopefully will prove fun to you.\n"
     ]
    }
   ],
   "source": [
    "file=open('README.txt','r')\n",
    "for i in file:\n",
    "  print(i)"
   ]
  },
  {
   "cell_type": "code",
   "execution_count": 13,
   "id": "66af3b7c",
   "metadata": {},
   "outputs": [
    {
     "name": "stdout",
     "output_type": "stream",
     "text": [
      "Repository to store sample Python programs.\n",
      "\n",
      "This repository is meant for beginners to assist them in their learning of Python. The repository covers a wide range of algorithms and other programs, and would prove immensely helpful for everybody interested in Python programming.\n",
      "\n",
      "If this is your first time coding in Python, I would love to suggest you begin from the Basics. They are simple to understand and hopefully will prove fun to you.\n"
     ]
    }
   ],
   "source": [
    "file=open('README.txt','r')\n",
    "print(file.read())"
   ]
  },
  {
   "cell_type": "code",
   "execution_count": 14,
   "id": "88fbed59",
   "metadata": {},
   "outputs": [],
   "source": [
    "file=open('Fed_28.txt','a')\n",
    "file.write(\"\\nhttps://github.com/ThisIs-Developer\")\n",
    "file.close()"
   ]
  },
  {
   "cell_type": "code",
   "execution_count": 15,
   "id": "596c4e5c",
   "metadata": {},
   "outputs": [
    {
     "name": "stdout",
     "output_type": "stream",
     "text": [
      "['I', 'am', 'Baivab', 'Sarkar.']\n",
      "['Bandel', 'Hooghly', 'West', 'Bengal']\n",
      "['CSE', '2nd', 'year']\n"
     ]
    }
   ],
   "source": [
    "with open(\"READ.txt\",\"r\")as file:\n",
    "  data=file.readlines()\n",
    "  for line in data:\n",
    "    word =line.split()\n",
    "    print(word)"
   ]
  },
  {
   "cell_type": "code",
   "execution_count": 16,
   "id": "e79d52cb",
   "metadata": {},
   "outputs": [
    {
     "name": "stdout",
     "output_type": "stream",
     "text": [
      "Complete\n"
     ]
    }
   ],
   "source": [
    "f1=open(\"README.txt\",\"w\")\n",
    "with open(\"READ.txt\",'r') as myfile:\n",
    "  data=myfile.read()\n",
    "data_1=data[::-1]\n",
    "f1.write(data_1)\n",
    "f1.close()\n",
    "print(\"Complete\")"
   ]
  },
  {
   "cell_type": "code",
   "execution_count": 17,
   "id": "c4b4c536",
   "metadata": {},
   "outputs": [
    {
     "name": "stdout",
     "output_type": "stream",
     "text": [
      "Complete\n"
     ]
    }
   ],
   "source": [
    "f2=open(\"README_1.txt\",\"w\")\n",
    "with open(\"READ.txt\",'r') as myfile:\n",
    "  data=myfile.readlines()\n",
    "data_2=data[::-1]\n",
    "f2.writelines(data_2)\n",
    "f2.close()\n",
    "print(\"Complete\")"
   ]
  },
  {
   "cell_type": "code",
   "execution_count": 18,
   "id": "6c42478a",
   "metadata": {},
   "outputs": [
    {
     "name": "stdout",
     "output_type": "stream",
     "text": [
      "Enter Department : CSE\n",
      "Enter the roll : 123211003045\n",
      "Enter your name : Baivab Sarkar\n",
      "Enter SGPA : 8.89\n",
      "Press 1 to countinue,OR 0 to end : 1\n",
      "Enter Department : IT\n",
      "Enter the roll : 123211003047\n",
      "Enter your name : Bhsimadev Ghosh\n",
      "Enter SGPA : 9.41\n",
      "Press 1 to countinue,OR 0 to end : 0\n"
     ]
    }
   ],
   "source": [
    "file=open(\"DOC.txt\",'a')\n",
    "op=1\n",
    "while op==1:\n",
    "  dep=input(\"Enter Department : \")\n",
    "  file.write(\"Department : \")\n",
    "  file.write(dep)\n",
    "  file.write(\",\")\n",
    "  roll=input(\"Enter the roll : \")\n",
    "  file.write(\"\\nRoll : \")\n",
    "  file.write(roll)\n",
    "  file.write(\",\")\n",
    "  name=input(\"Enter your name : \")\n",
    "  file.write(\"\\nName : \")\n",
    "  file.write(name)\n",
    "  file.write(\",\")\n",
    "  marks=input(\"Enter SGPA : \")\n",
    "  file.write(\"\\nSGPA : \")\n",
    "  file.write(marks)\n",
    "  file.write(\"\\n\")\n",
    "  op=int(input(\"Press 1 to countinue,OR 0 to end : \"))\n",
    "file.close()"
   ]
  }
 ],
 "metadata": {
  "kernelspec": {
   "display_name": "Python 3 (ipykernel)",
   "language": "python",
   "name": "python3"
  },
  "language_info": {
   "codemirror_mode": {
    "name": "ipython",
    "version": 3
   },
   "file_extension": ".py",
   "mimetype": "text/x-python",
   "name": "python",
   "nbconvert_exporter": "python",
   "pygments_lexer": "ipython3",
   "version": "3.10.9"
  }
 },
 "nbformat": 4,
 "nbformat_minor": 5
}
