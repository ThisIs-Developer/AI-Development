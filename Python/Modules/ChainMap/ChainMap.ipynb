{
 "cells": [
  {
   "cell_type": "markdown",
   "id": "632661ae",
   "metadata": {},
   "source": [
    "# from collections import ChainMap"
   ]
  },
  {
   "cell_type": "code",
   "execution_count": 1,
   "id": "4f75776d",
   "metadata": {},
   "outputs": [
    {
     "name": "stdout",
     "output_type": "stream",
     "text": [
      "ChainMap({'a': 1, 'b': 2}, {'c': 3, 'd': 4}, {'e': 5, 'f': 6})\n"
     ]
    }
   ],
   "source": [
    "from collections import ChainMap\n",
    "dict1={'a':1,'b':2}\n",
    "dict2={'c':3,'d':4}\n",
    "dict3={'e':5,'f':6}\n",
    "c=ChainMap(dict1,dict2,dict3)\n",
    "print(c)"
   ]
  },
  {
   "cell_type": "code",
   "execution_count": 2,
   "id": "1fcbb87d",
   "metadata": {},
   "outputs": [
    {
     "name": "stdout",
     "output_type": "stream",
     "text": [
      "[2, 4, 6, 8]\n"
     ]
    }
   ],
   "source": [
    "number=(1,2,3,4)\n",
    "result=map(lambda x:x+x,number)\n",
    "print(list(result))"
   ]
  },
  {
   "cell_type": "code",
   "execution_count": 1,
   "id": "f0b1927f",
   "metadata": {},
   "outputs": [
    {
     "name": "stdout",
     "output_type": "stream",
     "text": [
      "ChainMap({'a': 1, 'b': 2}, {'c': 3, 'd': 4}, {'e': 5, 'f': 6})\n"
     ]
    }
   ],
   "source": [
    "from collections import ChainMap\n",
    "d1 = {'a': 1, 'b': 2}\n",
    "d2 = {'c': 3, 'd': 4}\n",
    "d3 = {'e': 5, 'f': 6}\n",
    "c = ChainMap(d1, d2, d3)\n",
    "print(c)"
   ]
  },
  {
   "cell_type": "code",
   "execution_count": 2,
   "id": "4b091f42",
   "metadata": {},
   "outputs": [
    {
     "name": "stdout",
     "output_type": "stream",
     "text": [
      "All the ChainMap contents are : \n",
      "[{'a': 1, 'b': 2}, {'b': 3, 'c': 4}]\n",
      "All keys of ChainMap are : \n",
      "['b', 'c', 'a']\n",
      "All values of ChainMap are : \n",
      "[2, 4, 1]\n"
     ]
    }
   ],
   "source": [
    "import collections\n",
    "dic1 = { 'a' : 1, 'b' : 2 }\n",
    "dic2 = { 'b' : 3, 'c' : 4 }\n",
    "chain = collections.ChainMap(dic1, dic2)\n",
    "print (\"All the ChainMap contents are : \")\n",
    "print (chain.maps)\n",
    "print (\"All keys of ChainMap are : \")\n",
    "print (list(chain.keys()))\n",
    "print (\"All values of ChainMap are : \")\n",
    "print (list(chain.values()))"
   ]
  },
  {
   "cell_type": "code",
   "execution_count": 3,
   "id": "d3d80866",
   "metadata": {},
   "outputs": [
    {
     "name": "stdout",
     "output_type": "stream",
     "text": [
      "All the ChainMap contents are : \n",
      "[{'a': 1, 'b': 2}, {'b': 3, 'c': 4}]\n",
      "Displaying new ChainMap : \n",
      "[{'f': 5}, {'a': 1, 'b': 2}, {'b': 3, 'c': 4}]\n",
      "Value associated with b before reversing is : 2\n",
      "Value associated with b after reversing is : 3\n"
     ]
    }
   ],
   "source": [
    "import collections\n",
    "dic1 = { 'a' : 1, 'b' : 2 }\n",
    "dic2 = { 'b' : 3, 'c' : 4 }\n",
    "dic3 = { 'f' : 5 }\n",
    "chain = collections.ChainMap(dic1, dic2)\n",
    "\n",
    "print (\"All the ChainMap contents are : \")\n",
    "print (chain.maps)\n",
    "chain1 = chain.new_child(dic3)\n",
    "print (\"Displaying new ChainMap : \")\n",
    "print (chain1.maps)\n",
    "print (\"Value associated with b before reversing is : \",end=\"\")\n",
    "print (chain1['b'])\n",
    "chain1.maps = reversed(chain1.maps)\n",
    "print (\"Value associated with b after reversing is : \",end=\"\")\n",
    "print (chain1['b'])"
   ]
  },
  {
   "cell_type": "code",
   "execution_count": 4,
   "id": "20f49633",
   "metadata": {},
   "outputs": [
    {
     "data": {
      "text/plain": [
       "ChainMap({'one': 0, 'two': 0, 'three': 0})"
      ]
     },
     "execution_count": 4,
     "metadata": {},
     "output_type": "execute_result"
    }
   ],
   "source": [
    "from collections import ChainMap\n",
    "ChainMap.fromkeys([\"one\", \"two\",\"three\"])\n",
    "ChainMap.fromkeys([\"one\", \"two\",\"three\"], 0)"
   ]
  },
  {
   "cell_type": "code",
   "execution_count": 7,
   "id": "761c16dd",
   "metadata": {},
   "outputs": [
    {
     "data": {
      "text/plain": [
       "1"
      ]
     },
     "execution_count": 7,
     "metadata": {},
     "output_type": "execute_result"
    }
   ],
   "source": [
    "from collections import ChainMap\n",
    "for_adoption = {\"dogs\": 10, \"cats\": 7, \"pythons\": 3}\n",
    "vet_treatment = {\"dogs\": 4, \"cats\": 3, \"turtles\": 1}\n",
    "pets = ChainMap(for_adoption, vet_treatment)\n",
    "pets[\"dogs\"]\n",
    "pets.get(\"cats\")\n",
    "pets[\"turtles\"]"
   ]
  },
  {
   "cell_type": "code",
   "execution_count": 8,
   "id": "c6343a42",
   "metadata": {},
   "outputs": [
    {
     "name": "stdout",
     "output_type": "stream",
     "text": [
      "dogs -> 10\n",
      "cats -> 7\n",
      "turtles -> 1\n",
      "pythons -> 3\n"
     ]
    }
   ],
   "source": [
    "from collections import ChainMap\n",
    "for_adoption = {\"dogs\": 10, \"cats\": 7, \"pythons\": 3}\n",
    "vet_treatment = {\"dogs\": 4, \"cats\": 3, \"turtles\": 1}\n",
    "pets = ChainMap(for_adoption, vet_treatment)\n",
    "for key, value in pets.items():\n",
    "    print(key, \"->\", value)"
   ]
  },
  {
   "cell_type": "code",
   "execution_count": 9,
   "id": "aa61fb8b",
   "metadata": {},
   "outputs": [
    {
     "name": "stdout",
     "output_type": "stream",
     "text": [
      "dogs -> 10\n",
      "cats -> 7\n",
      "turtles -> 1\n",
      "pythons -> 3\n",
      "dogs -> 10\n",
      "cats -> 7\n",
      "turtles -> 1\n",
      "pythons -> 3\n",
      "10\n",
      "7\n",
      "1\n",
      "3\n"
     ]
    }
   ],
   "source": [
    "from collections import ChainMap\n",
    "for_adoption = {\"dogs\": 10, \"cats\": 7, \"pythons\": 3}\n",
    "vet_treatment = {\"dogs\": 4, \"cats\": 3, \"turtles\": 1}\n",
    "pets = ChainMap(for_adoption, vet_treatment)\n",
    "for key in pets:\n",
    "    print(key, \"->\", pets[key])\n",
    "for key in pets.keys():\n",
    "    print(key, \"->\", pets[key])\n",
    "for value in pets.values():\n",
    "    print(value)"
   ]
  },
  {
   "cell_type": "code",
   "execution_count": 10,
   "id": "2537ceba",
   "metadata": {},
   "outputs": [
    {
     "data": {
      "text/plain": [
       "ChainMap({'comma': ',', 'period': '.'}, {'one': 1, 'two': 2}, {'a': 'A', 'b': 'B'})"
      ]
     },
     "execution_count": 10,
     "metadata": {},
     "output_type": "execute_result"
    }
   ],
   "source": [
    "from collections import ChainMap\n",
    "numbers = {\"one\": 1, \"two\": 2}\n",
    "letters = {\"a\": \"A\", \"b\": \"B\"}\n",
    "alpha_num = ChainMap({}, numbers, letters)\n",
    "alpha_num\n",
    "alpha_num[\"comma\"] = \",\"\n",
    "alpha_num[\"period\"] = \".\"\n",
    "alpha_num"
   ]
  },
  {
   "cell_type": "code",
   "execution_count": null,
   "id": "cf197e87",
   "metadata": {},
   "outputs": [],
   "source": []
  }
 ],
 "metadata": {
  "kernelspec": {
   "display_name": "Python 3 (ipykernel)",
   "language": "python",
   "name": "python3"
  },
  "language_info": {
   "codemirror_mode": {
    "name": "ipython",
    "version": 3
   },
   "file_extension": ".py",
   "mimetype": "text/x-python",
   "name": "python",
   "nbconvert_exporter": "python",
   "pygments_lexer": "ipython3",
   "version": "3.10.9"
  }
 },
 "nbformat": 4,
 "nbformat_minor": 5
}
