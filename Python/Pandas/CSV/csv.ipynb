{
 "cells": [
  {
   "cell_type": "code",
   "execution_count": 1,
   "id": "b662b747",
   "metadata": {},
   "outputs": [
    {
     "name": "stdout",
     "output_type": "stream",
     "text": [
      "Total number of rows : 8\n",
      "Field names are : NAME, COURSE, AGE, SGPA\n",
      "\n",
      "First 5 rowa are : \n",
      "\n",
      "    BAIVAB    GRADUATION            20           9.0    \n",
      "\n",
      " BHSIMADEV    GRADUATION            17          9.41    \n",
      "\n",
      "      AYAN    GRADUATION            19          8.71    \n",
      "\n",
      "     ARPAN    GRADUATION            21          9.61    \n",
      "\n",
      "    AYAN.K    GRADUATION            20          9.02    \n",
      "\n"
     ]
    }
   ],
   "source": [
    "import csv\n",
    "filename=\"DATA.csv\"\n",
    "fields=[]\n",
    "rows=[]\n",
    "with open(filename,'r') as csvfile:\n",
    "  csvreader=csv.reader(csvfile)\n",
    "  fields=next(csvreader)\n",
    "  for row in csvreader:\n",
    "    rows.append(row)\n",
    "  print(\"Total number of rows : %d\"%(csvreader.line_num))\n",
    "print(\"Field names are : \"+ \", \".join(field for field in fields))\n",
    "print(\"\\nFirst 5 rowa are : \\n\")\n",
    "for row in rows[:5]:\n",
    "  for col in row:\n",
    "    print(\"%10s\"%col,end='    ')\n",
    "  print(\"\\n\")"
   ]
  },
  {
   "cell_type": "code",
   "execution_count": 2,
   "id": "db71de76",
   "metadata": {},
   "outputs": [
    {
     "name": "stdout",
     "output_type": "stream",
     "text": [
      "['NAME', 'COURSE', 'AGE', 'SGPA']\n",
      "['BAIVAB', 'GRADUATION', '20', '9.0']\n",
      "['BHSIMADEV', 'GRADUATION', '17', '9.41']\n",
      "['AYAN', 'GRADUATION', '19', '8.71']\n",
      "['ARPAN', 'GRADUATION', '21', '9.61']\n",
      "['AYAN.K', 'GRADUATION', '20', '9.02']\n",
      "['ARYA', 'GRADUATION', '19', '8.50']\n",
      "['ARINDUM', 'GRADUATION', '18', '8.50']\n"
     ]
    }
   ],
   "source": [
    "import csv\n",
    "with open(\"DATA.csv\",'rt') as f:\n",
    "  aec=csv.reader(f)\n",
    "  for r in aec:\n",
    "    print(r)\n",
    "f.close()"
   ]
  },
  {
   "cell_type": "code",
   "execution_count": 3,
   "id": "86dddbab",
   "metadata": {},
   "outputs": [
    {
     "name": "stdout",
     "output_type": "stream",
     "text": [
      "{'NAME': 'BAIVAB', 'COURSE': 'GRADUATION', 'AGE': '20', 'SGPA': '9.0'}\n",
      "{'NAME': 'BHSIMADEV', 'COURSE': 'GRADUATION', 'AGE': '17', 'SGPA': '9.41'}\n",
      "{'NAME': 'AYAN', 'COURSE': 'GRADUATION', 'AGE': '19', 'SGPA': '8.71'}\n",
      "{'NAME': 'ARPAN', 'COURSE': 'GRADUATION', 'AGE': '21', 'SGPA': '9.61'}\n",
      "{'NAME': 'AYAN.K', 'COURSE': 'GRADUATION', 'AGE': '20', 'SGPA': '9.02'}\n",
      "{'NAME': 'ARYA', 'COURSE': 'GRADUATION', 'AGE': '19', 'SGPA': '8.50'}\n",
      "{'NAME': 'ARINDUM', 'COURSE': 'GRADUATION', 'AGE': '18', 'SGPA': '8.50'}\n"
     ]
    }
   ],
   "source": [
    "import csv\n",
    "reader=csv.DictReader(open(\"DATA.csv\"))\n",
    "for raw in reader:\n",
    "  print(raw)"
   ]
  },
  {
   "cell_type": "code",
   "execution_count": 4,
   "id": "5660146a",
   "metadata": {},
   "outputs": [],
   "source": [
    "import csv\n",
    "with open(\"READ.csv\",'w') as file:\n",
    "  write=csv.writer(file, delimiter=\",\")\n",
    "  write.writerow(['NAME', 'PLACE', 'DISTANCE', 'FEE'])\n",
    "  write.writerow(['BAIVAB','BANDEL','13','10'])\n",
    "  write.writerow(['AYAN','BIRNAGER','39','40'])\n",
    "  write.writerow(['BHSIMADEV','PURBASTHALI','60','50'])\n",
    "  write.writerow(['ARPAN','KATWA','125','30'])\n",
    "  write.writerow(['ARINDUM','SHIMUR','79','89'])\n",
    "  write.writerow(['ARAY','BARACKPUR','22','15'])\n",
    "  write.writerow(['AYAN.K','TRIBANI','5','5'])"
   ]
  },
  {
   "cell_type": "code",
   "execution_count": 1,
   "id": "dcd89780",
   "metadata": {},
   "outputs": [
    {
     "name": "stdout",
     "output_type": "stream",
     "text": [
      "Total number of rows : 5\n",
      "Field names are : ROLL\tNAME\tSEC\tSGPA\n",
      "\n",
      "First 5 rowa are : \n",
      "\n",
      "3045\tBAIVAB\tA\t9.0    \n",
      "\n",
      "3039\tAYAN\tB\t8.36    \n",
      "\n",
      "3047\tBHSHU\tA\t9.41    \n",
      "\n",
      "3030\tARPAN\tC\t9.61    \n",
      "\n"
     ]
    }
   ],
   "source": [
    "import csv\n",
    "filename=\"MY_DATA.csv\"\n",
    "fields=[]\n",
    "rows=[]\n",
    "with open(filename,'r') as csvfile:\n",
    "  csvreader=csv.reader(csvfile)\n",
    "  fields=next(csvreader)\n",
    "  for row in csvreader:\n",
    "    rows.append(row)\n",
    "  print(\"Total number of rows : %d\"%(csvreader.line_num))\n",
    "print(\"Field names are : \"+ \", \".join(field for field in fields))\n",
    "print(\"\\nFirst 5 rowa are : \\n\")\n",
    "for row in rows[:5]:\n",
    "  for col in row:\n",
    "    print(\"%10s\"%col,end='    ')\n",
    "  print(\"\\n\")"
   ]
  },
  {
   "cell_type": "code",
   "execution_count": 2,
   "id": "dde691c5",
   "metadata": {},
   "outputs": [
    {
     "name": "stdout",
     "output_type": "stream",
     "text": [
      "['ROLL', 'NAME', 'SEC', 'SGPA']\n",
      "['3045', 'BAIVAB', 'A', '9.0']\n",
      "['3039', 'AYAN', 'B', '8.36']\n",
      "['3047', 'BHSHU', 'A', '9.41']\n",
      "['3030', 'ARPAN', 'C', '9.61']\n"
     ]
    }
   ],
   "source": [
    "import csv\n",
    "with open('MY_DATA.csv', 'r') as file:\n",
    "  rdr=csv.reader(file, delimiter='\\t')\n",
    "  for r in rdr:\n",
    "    print(r)"
   ]
  },
  {
   "cell_type": "code",
   "execution_count": 3,
   "id": "646b5253",
   "metadata": {},
   "outputs": [
    {
     "name": "stdout",
     "output_type": "stream",
     "text": [
      "['ROLL\\tNAME\\tSEC\\tSGPA']\n",
      "['3045\\tBAIVAB\\tA\\t9.0']\n",
      "['3039\\tAYAN\\tB\\t8.36']\n",
      "['3047\\tBHSHU\\tA\\t9.41']\n",
      "['3030\\tARPAN\\tC\\t9.61']\n"
     ]
    }
   ],
   "source": [
    "import csv\n",
    "with open('MY_DATA.csv', 'r') as file:\n",
    "  rdr=csv.reader(file, skipinitialspace=True)\n",
    "  for r in rdr:\n",
    "    print(r)"
   ]
  },
  {
   "cell_type": "code",
   "execution_count": 1,
   "id": "3b686446",
   "metadata": {},
   "outputs": [
    {
     "name": "stdout",
     "output_type": "stream",
     "text": [
      "Enter language's name: Python\n",
      "Enter inventor's name: Baivab Sarkar\n",
      "Enter releasing year: 2002\n",
      "Enter extension's name: .bs\n",
      "\n",
      " Python Baivab Sarkar 2002 .bs\n",
      "['Python', 'Baivab Sarkar', '2002', '.bs']\n"
     ]
    }
   ],
   "source": [
    "import csv\n",
    "from csv import writer\n",
    "def add_rec(file_name,l):\n",
    "  with open(file_name,'a+',newline='') as write_obj:\n",
    "    csv_writer=writer(write_obj)\n",
    "    csv_writer.writerow(l)\n",
    "lnm=input(\"Enter language's name: \")\n",
    "inm=input(\"Enter inventor's name: \")\n",
    "ryr=input(\"Enter releasing year: \")\n",
    "enm=input(\"Enter extension's name: \")\n",
    "print(\"\\n\",lnm,inm,ryr,enm)\n",
    "l=list([lnm,inm,ryr,enm])\n",
    "print(l)\n",
    "\n",
    "add_rec(\"NEW_DATA.csv\",l)"
   ]
  },
  {
   "cell_type": "code",
   "execution_count": 2,
   "id": "27b977ab",
   "metadata": {},
   "outputs": [
    {
     "name": "stdout",
     "output_type": "stream",
     "text": [
      "Enter ID : 123211003045\n",
      "Enter name : Baivab Sarkar\n",
      "Enter city : Bandel\n",
      "Enter Marks : 8.89\n",
      "Enter section : A\n",
      "['123211003045', 'Baivab Sarkar', 'Bandel', 8.89, 'A']\n"
     ]
    }
   ],
   "source": [
    "import csv\n",
    "from csv import writer\n",
    "with open(\"READ2.csv\",'+a',newline='')as f:\n",
    "  csvwrt=writer(f)\n",
    "  si=input(\"Enter ID : \")\n",
    "  snm=input(\"Enter name : \")\n",
    "  sct=input(\"Enter city : \")\n",
    "  smr=float(input(\"Enter Marks : \"))\n",
    "  sec=input(\"Enter section : \")\n",
    "  rec=[si,snm,sct,smr,sec]\n",
    "  print(rec)\n",
    "  csvwrt.writerow(rec)\n",
    "f.close()"
   ]
  },
  {
   "cell_type": "code",
   "execution_count": 5,
   "id": "7e16478d",
   "metadata": {},
   "outputs": [
    {
     "name": "stdout",
     "output_type": "stream",
     "text": [
      "Enter id to delete record: 8961428548\n",
      "8961428548\n",
      "['NAME', 'COURSE', 'AGE', 'SGPA']\n",
      "['BHSIMADEV', 'GRADUATION', '17', '9.41']\n",
      "['AYAN', 'GRADUATION', '19', '8.71']\n",
      "['ARPAN', 'GRADUATION', '21', '9.61']\n"
     ]
    }
   ],
   "source": [
    "final=[]\n",
    "did=input(\"Enter id to delete record: \")\n",
    "print(did)\n",
    "f=open(\"DEL_DATA.csv\", 'r+')\n",
    "data=csv.reader(f)\n",
    "for rec in data:\n",
    "  cr=[]\n",
    "  for v in rec:\n",
    "    cr.append(v)\n",
    "  if cr[0] !=did:\n",
    "    final.append(cr)\n",
    "f.close()\n",
    "for v in final:\n",
    "  print(v)\n",
    "f=open('DEL_DATA.csv', \"w\", newline='')\n",
    "csv_writer=writer(f)\n",
    "for v in final:\n",
    "  csv_writer.writerow(v)\n",
    "f.close()"
   ]
  },
  {
   "cell_type": "code",
   "execution_count": null,
   "id": "d7fd91e8",
   "metadata": {},
   "outputs": [],
   "source": []
  }
 ],
 "metadata": {
  "kernelspec": {
   "display_name": "Python 3 (ipykernel)",
   "language": "python",
   "name": "python3"
  },
  "language_info": {
   "codemirror_mode": {
    "name": "ipython",
    "version": 3
   },
   "file_extension": ".py",
   "mimetype": "text/x-python",
   "name": "python",
   "nbconvert_exporter": "python",
   "pygments_lexer": "ipython3",
   "version": "3.10.9"
  }
 },
 "nbformat": 4,
 "nbformat_minor": 5
}
