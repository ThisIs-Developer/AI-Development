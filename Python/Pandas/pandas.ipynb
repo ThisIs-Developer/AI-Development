{
 "cells": [
  {
   "cell_type": "code",
   "execution_count": 2,
   "id": "5a7edd32",
   "metadata": {},
   "outputs": [
    {
     "name": "stdout",
     "output_type": "stream",
     "text": [
      "1.5.3\n"
     ]
    }
   ],
   "source": [
    "import pandas as pd\n",
    "print(pd.__version__)"
   ]
  },
  {
   "cell_type": "code",
   "execution_count": 4,
   "id": "28bc44b8",
   "metadata": {},
   "outputs": [
    {
     "name": "stdout",
     "output_type": "stream",
     "text": [
      "        NAME        PLACE  DISTANCE  FEE\n",
      "0     BAIVAB       BANDEL        13   10\n",
      "1       AYAN     BIRNAGER        39   40\n",
      "2  BHSIMADEV  PURBASTHALI        60   50\n",
      "3      ARPAN        KATWA       125   30\n",
      "4    ARINDUM       SHIMUR        79   89\n",
      "5       ARAY    BARACKPUR        22   15\n",
      "6     AYAN.K      TRIBANI         5    5\n"
     ]
    }
   ],
   "source": [
    "import pandas\n",
    "result=pandas.read_csv(\"READ2.csv\")\n",
    "print(result)"
   ]
  },
  {
   "cell_type": "markdown",
   "id": "f7527f39",
   "metadata": {},
   "source": [
    "# DataFrame"
   ]
  },
  {
   "cell_type": "code",
   "execution_count": 5,
   "id": "fd6de5ea",
   "metadata": {},
   "outputs": [
    {
     "name": "stdout",
     "output_type": "stream",
     "text": [
      "  Programming language Designed by Appeared Extension\n",
      "0                 ruby       rohon     1900       .rb\n",
      "1                 perl       parul     1950       .pr\n",
      "2              diamond       dipak     2000       .dy\n"
     ]
    }
   ],
   "source": [
    "import pandas\n",
    "from pandas import DataFrame\n",
    "c={\n",
    "   'Programming language': ['ruby', 'perl','diamond'],\n",
    "   'Designed by': ['rohon','parul','dipak'],\n",
    "   'Appeared': ['1900','1950','2000'],\n",
    "   'Extension': ['.rb','.pr','.dy']\n",
    "}\n",
    "df=DataFrame(c,columns = ['Programming language','Designed by','Appeared','Extension'])\n",
    "export_csv=df.to_csv('READ.csv',index=None,header=True)\n",
    "print(df)"
   ]
  },
  {
   "cell_type": "code",
   "execution_count": 1,
   "id": "9b61aeb9",
   "metadata": {},
   "outputs": [
    {
     "name": "stdout",
     "output_type": "stream",
     "text": [
      "Enter language's name: Python\n",
      "Enter inventor's name: Baivab Sarkar\n",
      "Enter releasing year: 2002\n",
      "Enter extension's name: .bs\n",
      "  Programming language    Designed by Appeared Extension\n",
      "0               Python  Baivab Sarkar     2002       .bs\n"
     ]
    }
   ],
   "source": [
    "import pandas\n",
    "from pandas import DataFrame\n",
    "lnm=input(\"Enter language's name: \")\n",
    "inm=input(\"Enter inventor's name: \")\n",
    "ryr=input(\"Enter releasing year: \")\n",
    "enm=input(\"Enter extension's name: \")\n",
    "C={\n",
    "   'Programming language': [lnm],\n",
    "   'Designed by': [inm],\n",
    "   'Appeared': [ryr],\n",
    "   'Extension': [enm]\n",
    "}\n",
    "df=DataFrame(C, columns=['Programming language','Designed by','Appeared','Extension'])\n",
    "export_csv=df.to_csv('USER_DATA.csv',index=None, header=True)\n",
    "print(df)"
   ]
  },
  {
   "cell_type": "code",
   "execution_count": 6,
   "id": "82321a7d",
   "metadata": {},
   "outputs": [
    {
     "name": "stdout",
     "output_type": "stream",
     "text": [
      "Series([], dtype: float64)\n"
     ]
    },
    {
     "name": "stderr",
     "output_type": "stream",
     "text": [
      "C:\\Users\\baiva\\AppData\\Local\\Temp\\ipykernel_4544\\684786497.py:2: FutureWarning: The default dtype for empty Series will be 'object' instead of 'float64' in a future version. Specify a dtype explicitly to silence this warning.\n",
      "  a=pd.Series()\n"
     ]
    }
   ],
   "source": [
    "import pandas as pd\n",
    "a=pd.Series()\n",
    "print(a)"
   ]
  },
  {
   "cell_type": "code",
   "execution_count": 7,
   "id": "3a1229bc",
   "metadata": {},
   "outputs": [
    {
     "name": "stdout",
     "output_type": "stream",
     "text": [
      "0    11\n",
      "1    12\n",
      "2    13\n",
      "3    14\n",
      "dtype: int64\n"
     ]
    }
   ],
   "source": [
    "b=pd.Series([11,12,13,14])\n",
    "print(b)"
   ]
  },
  {
   "cell_type": "code",
   "execution_count": 8,
   "id": "529af4ee",
   "metadata": {},
   "outputs": [
    {
     "name": "stdout",
     "output_type": "stream",
     "text": [
      "a    11\n",
      "b    12\n",
      "c    13\n",
      "d    14\n",
      "dtype: int64\n"
     ]
    }
   ],
   "source": [
    "c=pd.Series([11,12,13,14],index=['a','b','c','d'])\n",
    "print(c)"
   ]
  },
  {
   "cell_type": "code",
   "execution_count": 9,
   "id": "a6fdd659",
   "metadata": {},
   "outputs": [
    {
     "name": "stdout",
     "output_type": "stream",
     "text": [
      "id        101\n",
      "name    Vipin\n",
      "age         2\n",
      "dtype: object\n"
     ]
    }
   ],
   "source": [
    "d={\"id\":101,\"name\":\"Vipin\",\"age\":2}\n",
    "d1=pd.Series(d)\n",
    "print(d1)"
   ]
  },
  {
   "cell_type": "code",
   "execution_count": 10,
   "id": "5c367922",
   "metadata": {},
   "outputs": [
    {
     "name": "stdout",
     "output_type": "stream",
     "text": [
      "name    [Baivab, Bhsima, Ayan, Arpan]\n",
      "phy                 [95, 22, 14, 100]\n",
      "chem                 [22, 11, 22, 95]\n",
      "math                 [84, 54, 45, 78]\n",
      "dtype: object\n"
     ]
    }
   ],
   "source": [
    "s={\"name\" : [\"Baivab\",\"Bhsima\",\"Ayan\",\"Arpan\"],\n",
    "\"phy\" : [95,22,14,100],\n",
    "\"chem\" : [22,11,22,95],\n",
    "\"math\" : [84,54,45,78]}\n",
    "p=pd.Series(s)\n",
    "print(p)"
   ]
  },
  {
   "cell_type": "code",
   "execution_count": 11,
   "id": "822e028a",
   "metadata": {},
   "outputs": [
    {
     "name": "stdout",
     "output_type": "stream",
     "text": [
      "     name  phy  chem  math\n",
      "0  Baivab   95    22    84\n",
      "1  Bhsima   22    11    54\n",
      "2    Ayan   14    22    45\n",
      "3   Arpan  100    95    78\n"
     ]
    }
   ],
   "source": [
    "d=pd.DataFrame(s)\n",
    "print(d)"
   ]
  },
  {
   "cell_type": "code",
   "execution_count": 12,
   "id": "116c9edc",
   "metadata": {},
   "outputs": [
    {
     "name": "stderr",
     "output_type": "stream",
     "text": [
      "C:\\Users\\baiva\\AppData\\Local\\Temp\\ipykernel_4544\\1207687796.py:2: FutureWarning: The frame.append method is deprecated and will be removed from pandas in a future version. Use pandas.concat instead.\n",
      "  d2=d.append(r,ignore_index = True)\n"
     ]
    },
    {
     "name": "stdout",
     "output_type": "stream",
     "text": [
      "     name  phy  chem  math\n",
      "0  Baivab   95    22    84\n",
      "1  Bhsima   22    11    54\n",
      "2    Ayan   14    22    45\n",
      "3   Arpan  100    95    78\n",
      "4    Arya   98    84    15\n"
     ]
    }
   ],
   "source": [
    "r={\"name\":\"Arya\",\"phy\":98,\"chem\":84,\"math\":15}\n",
    "d2=d.append(r,ignore_index = True)\n",
    "print(d2)"
   ]
  },
  {
   "cell_type": "code",
   "execution_count": 13,
   "id": "fed12eac",
   "metadata": {},
   "outputs": [
    {
     "name": "stdout",
     "output_type": "stream",
     "text": [
      "0     95\n",
      "1     22\n",
      "2     14\n",
      "3    100\n",
      "4     98\n",
      "Name: phy, dtype: int64\n",
      "     name  chem  math\n",
      "0  Baivab    22    84\n",
      "1  Bhsima    11    54\n",
      "2    Ayan    22    45\n",
      "3   Arpan    95    78\n",
      "4    Arya    84    15\n"
     ]
    }
   ],
   "source": [
    "d1=d2.pop(\"phy\")\n",
    "print(d1)\n",
    "print(d2)"
   ]
  },
  {
   "cell_type": "code",
   "execution_count": 14,
   "id": "b77d81d9",
   "metadata": {},
   "outputs": [
    {
     "name": "stdout",
     "output_type": "stream",
     "text": [
      "       GEOID       State   2005   2006   2007   2008   2009   2010   2011  \\\n",
      "0  04000US01     Alabama  37150  37952  42212  44476  39980  40933  42590   \n",
      "1  04000US02      Alaska  55891  56418  62993  63989  61604  57848  57431   \n",
      "2  04000US04     Arizona  45245  46657  47215  46914  45739  46896  48621   \n",
      "3  04000US05    Arkansas  36658  37057  40795  39586  36538  38587  41302   \n",
      "4  04000US06  California  51755  55319  55734  57014  56134  54283  53367   \n",
      "\n",
      "    2012   2013  \n",
      "0  43464  41381  \n",
      "1  63648  61137  \n",
      "2  47044  50602  \n",
      "3  39018  39919  \n",
      "4  57020  57528  \n"
     ]
    }
   ],
   "source": [
    "import pandas as pd\n",
    "df=pd.read_csv(\"Income_data.csv\")\n",
    "print(df)"
   ]
  },
  {
   "cell_type": "code",
   "execution_count": 15,
   "id": "715e0375",
   "metadata": {},
   "outputs": [
    {
     "name": "stdout",
     "output_type": "stream",
     "text": [
      "                GEOID   2005   2006   2007   2008   2009   2010   2011   2012  \\\n",
      "State                                                                           \n",
      "Alabama     04000US01  37150  37952  42212  44476  39980  40933  42590  43464   \n",
      "Alaska      04000US02  55891  56418  62993  63989  61604  57848  57431  63648   \n",
      "Arizona     04000US04  45245  46657  47215  46914  45739  46896  48621  47044   \n",
      "Arkansas    04000US05  36658  37057  40795  39586  36538  38587  41302  39018   \n",
      "California  04000US06  51755  55319  55734  57014  56134  54283  53367  57020   \n",
      "\n",
      "             2013  \n",
      "State              \n",
      "Alabama     41381  \n",
      "Alaska      61137  \n",
      "Arizona     50602  \n",
      "Arkansas    39919  \n",
      "California  57528  \n"
     ]
    }
   ],
   "source": [
    "df1=df.set_index(\"State\")\n",
    "print(df1)"
   ]
  },
  {
   "cell_type": "code",
   "execution_count": 16,
   "id": "d3712c7e",
   "metadata": {},
   "outputs": [
    {
     "name": "stdout",
     "output_type": "stream",
     "text": [
      "          2005   2006   2007\n",
      "State                       \n",
      "Alabama  37150  37952  42212\n",
      "Alaska   55891  56418  62993\n",
      "Arizona  45245  46657  47215\n"
     ]
    }
   ],
   "source": [
    "# SLicing Dataframe \n",
    "# iloc [start row index : end row index,\n",
    "#       start column index : end column index]\n",
    "df2=df1.iloc[:3,1:4]\n",
    "print(df2)"
   ]
  },
  {
   "cell_type": "code",
   "execution_count": 17,
   "id": "2a1927e9",
   "metadata": {},
   "outputs": [
    {
     "name": "stdout",
     "output_type": "stream",
     "text": [
      "          2005   2006   2007\n",
      "State                       \n",
      "Alabama  37150  37952  42212\n",
      "Alaska   55891  56418  62993\n",
      "Arizona  45245  46657  47215\n"
     ]
    }
   ],
   "source": [
    "#using loc method\n",
    "#loc[start_row_name:end_row_name,start_col_name:end_col_name]  //it include the end_row/col\n",
    "df3=df1.loc[\"Alabama\":\"Arizona\",\"2005\":\"2007\"]\n",
    "print(df3)"
   ]
  },
  {
   "cell_type": "code",
   "execution_count": 18,
   "id": "190c3791",
   "metadata": {},
   "outputs": [
    {
     "name": "stdout",
     "output_type": "stream",
     "text": [
      "2005    138286\n",
      "2006    141027\n",
      "2007    152420\n",
      "dtype: int64\n",
      "State\n",
      "Alabama    117314\n",
      "Alaska     175302\n",
      "Arizona    139117\n",
      "dtype: int64\n"
     ]
    }
   ],
   "source": [
    "print(df3.sum(axis=0))\n",
    "print(df3.sum(axis=1))"
   ]
  },
  {
   "cell_type": "code",
   "execution_count": 19,
   "id": "0fdac1a5",
   "metadata": {},
   "outputs": [
    {
     "name": "stdout",
     "output_type": "stream",
     "text": [
      "          2005   2007   2009\n",
      "State                       \n",
      "Alabama  37150  42212  39980\n",
      "Alaska   55891  62993  61604\n",
      "Arizona  45245  47215  45739\n"
     ]
    }
   ],
   "source": [
    "#alabama, Alaska,and Arizona for year 2005,2007,2009\n",
    "m=df1.iloc[:3,[1,3,5]]\n",
    "print(m)"
   ]
  },
  {
   "cell_type": "code",
   "execution_count": 20,
   "id": "8a321da4",
   "metadata": {},
   "outputs": [
    {
     "name": "stdout",
     "output_type": "stream",
     "text": [
      "          2005   2007   2009\n",
      "State                       \n",
      "Alabama  37150  42212  39980\n",
      "Alaska   55891  62993  61604\n",
      "Arizona  45245  47215  45739\n"
     ]
    }
   ],
   "source": [
    "n=df1.loc[\"Alabama\":\"Arizona\",[\"2005\",\"2007\",\"2009\"]]\n",
    "print(n)"
   ]
  },
  {
   "cell_type": "code",
   "execution_count": 21,
   "id": "f4e1fb81",
   "metadata": {},
   "outputs": [
    {
     "name": "stdout",
     "output_type": "stream",
     "text": [
      "             2005   2006   2007   2008   2009   2010   2011   2012   2013\n",
      "State                                                                    \n",
      "California  51755  55319  55734  57014  56134  54283  53367  57020  57528\n"
     ]
    }
   ],
   "source": [
    "n1=df1.iloc[4:,1:]\n",
    "print(n1)"
   ]
  },
  {
   "cell_type": "code",
   "execution_count": 22,
   "id": "98fa7fbd",
   "metadata": {},
   "outputs": [
    {
     "name": "stdout",
     "output_type": "stream",
     "text": [
      "State\n",
      "California    498154\n",
      "dtype: int64\n"
     ]
    }
   ],
   "source": [
    "print(n1.sum(axis=1))"
   ]
  },
  {
   "cell_type": "code",
   "execution_count": 23,
   "id": "12fef508",
   "metadata": {},
   "outputs": [
    {
     "name": "stdout",
     "output_type": "stream",
     "text": [
      "         2005   2006   2007   2008   2009   2010   2011   2012   2013\n",
      "State                                                                \n",
      "Alaska  55891  56418  62993  63989  61604  57848  57431  63648  61137\n",
      "State\n",
      "Alaska    540959\n",
      "dtype: int64\n"
     ]
    }
   ],
   "source": [
    "#sum of total sales in Alaska from 2005 to 2013\n",
    "n2=df1.loc[\"Alaska\":\"Alaska\",\"2005\":\"2013\"]\n",
    "print(n2)\n",
    "print(n2.sum(axis=1))"
   ]
  },
  {
   "cell_type": "code",
   "execution_count": 24,
   "id": "55d7c6a5",
   "metadata": {},
   "outputs": [
    {
     "name": "stdout",
     "output_type": "stream",
     "text": [
      "   a  b      c\n",
      "0  1  1   2.92\n",
      "1  1  2  70.75\n",
      "2  1  3  60.90\n",
      "3  2  1  71.34\n",
      "4  2  2   5.23\n",
      "5  2  3  38.56\n",
      "6  3  1  61.24\n",
      "7  3  2  38.68\n",
      "8  3  3   4.49\n"
     ]
    }
   ],
   "source": [
    "data = pd.read_csv('dist.txt', delimiter= '\\s+',header=None, index_col=False)\n",
    "data.columns = [\"a\", \"b\", \"c\"]\n",
    "print(data)"
   ]
  },
  {
   "cell_type": "code",
   "execution_count": 25,
   "id": "e1f21e6a",
   "metadata": {},
   "outputs": [
    {
     "name": "stdout",
     "output_type": "stream",
     "text": [
      "   A  B      C\n",
      "0  1  1   2.92\n",
      "1  1  2  70.75\n",
      "2  1  3  60.90\n",
      "3  2  1  71.34\n",
      "4  2  2   5.23\n",
      "5  2  3  38.56\n",
      "6  3  1  61.24\n",
      "7  3  2  38.68\n",
      "8  3  3   4.49\n"
     ]
    }
   ],
   "source": [
    "import pandas as pd\n",
    "df =pd.read_table('dist.txt', delim_whitespace=True, names=('A', 'B','C'))\n",
    "print(df)"
   ]
  }
 ],
 "metadata": {
  "kernelspec": {
   "display_name": "Python 3 (ipykernel)",
   "language": "python",
   "name": "python3"
  },
  "language_info": {
   "codemirror_mode": {
    "name": "ipython",
    "version": 3
   },
   "file_extension": ".py",
   "mimetype": "text/x-python",
   "name": "python",
   "nbconvert_exporter": "python",
   "pygments_lexer": "ipython3",
   "version": "3.10.9"
  }
 },
 "nbformat": 4,
 "nbformat_minor": 5
}
