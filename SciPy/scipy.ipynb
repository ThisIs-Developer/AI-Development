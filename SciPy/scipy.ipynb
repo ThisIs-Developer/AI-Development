{
 "cells": [
  {
   "cell_type": "code",
   "execution_count": 1,
   "id": "13877ef6",
   "metadata": {},
   "outputs": [
    {
     "name": "stdout",
     "output_type": "stream",
     "text": [
      "Requirement already satisfied: scipy in d:\\anaconda3\\lib\\site-packages (1.10.0)\n",
      "Requirement already satisfied: numpy<1.27.0,>=1.19.5 in d:\\anaconda3\\lib\\site-packages (from scipy) (1.23.5)\n"
     ]
    }
   ],
   "source": [
    "!pip install scipy"
   ]
  },
  {
   "cell_type": "code",
   "execution_count": 2,
   "id": "5e741fab",
   "metadata": {},
   "outputs": [
    {
     "name": "stdout",
     "output_type": "stream",
     "text": [
      "1.10.0\n"
     ]
    }
   ],
   "source": [
    "import scipy\n",
    "\n",
    "print(scipy.__version__)"
   ]
  },
  {
   "cell_type": "markdown",
   "id": "4dff1188",
   "metadata": {},
   "source": [
    "# SciPy Constants"
   ]
  },
  {
   "cell_type": "code",
   "execution_count": 3,
   "id": "071a1907",
   "metadata": {},
   "outputs": [
    {
     "name": "stdout",
     "output_type": "stream",
     "text": [
      "0.001\n"
     ]
    }
   ],
   "source": [
    "from scipy import constants\n",
    "print(constants.liter)"
   ]
  },
  {
   "cell_type": "code",
   "execution_count": 4,
   "id": "53b63705",
   "metadata": {},
   "outputs": [
    {
     "name": "stdout",
     "output_type": "stream",
     "text": [
      "3.141592653589793\n"
     ]
    }
   ],
   "source": [
    "from scipy import constants\n",
    "print(constants.pi)"
   ]
  },
  {
   "cell_type": "code",
   "execution_count": 5,
   "id": "a4c8b8e7",
   "metadata": {},
   "outputs": [
    {
     "name": "stdout",
     "output_type": "stream",
     "text": [
      "['Avogadro', 'Boltzmann', 'Btu', 'Btu_IT', 'Btu_th', 'ConstantWarning', 'G', 'Julian_year', 'N_A', 'Planck', 'R', 'Rydberg', 'Stefan_Boltzmann', 'Wien', '__all__', '__builtins__', '__cached__', '__doc__', '__file__', '__loader__', '__name__', '__package__', '__path__', '__spec__', '_codata', '_constants', '_obsolete_constants', 'acre', 'alpha', 'angstrom', 'arcmin', 'arcminute', 'arcsec', 'arcsecond', 'astronomical_unit', 'atm', 'atmosphere', 'atomic_mass', 'atto', 'au', 'bar', 'barrel', 'bbl', 'blob', 'c', 'calorie', 'calorie_IT', 'calorie_th', 'carat', 'centi', 'codata', 'constants', 'convert_temperature', 'day', 'deci', 'degree', 'degree_Fahrenheit', 'deka', 'dyn', 'dyne', 'e', 'eV', 'electron_mass', 'electron_volt', 'elementary_charge', 'epsilon_0', 'erg', 'exa', 'exbi', 'femto', 'fermi', 'find', 'fine_structure', 'fluid_ounce', 'fluid_ounce_US', 'fluid_ounce_imp', 'foot', 'g', 'gallon', 'gallon_US', 'gallon_imp', 'gas_constant', 'gibi', 'giga', 'golden', 'golden_ratio', 'grain', 'gram', 'gravitational_constant', 'h', 'hbar', 'hectare', 'hecto', 'horsepower', 'hour', 'hp', 'inch', 'k', 'kgf', 'kibi', 'kilo', 'kilogram_force', 'kmh', 'knot', 'lambda2nu', 'lb', 'lbf', 'light_year', 'liter', 'litre', 'long_ton', 'm_e', 'm_n', 'm_p', 'm_u', 'mach', 'mebi', 'mega', 'metric_ton', 'micro', 'micron', 'mil', 'mile', 'milli', 'minute', 'mmHg', 'mph', 'mu_0', 'nano', 'nautical_mile', 'neutron_mass', 'nu2lambda', 'ounce', 'oz', 'parsec', 'pebi', 'peta', 'physical_constants', 'pi', 'pico', 'point', 'pound', 'pound_force', 'precision', 'proton_mass', 'psi', 'pt', 'short_ton', 'sigma', 'slinch', 'slug', 'speed_of_light', 'speed_of_sound', 'stone', 'survey_foot', 'survey_mile', 'tebi', 'tera', 'test', 'ton_TNT', 'torr', 'troy_ounce', 'troy_pound', 'u', 'unit', 'value', 'week', 'yard', 'year', 'yobi', 'yocto', 'yotta', 'zebi', 'zepto', 'zero_Celsius', 'zetta']\n"
     ]
    }
   ],
   "source": [
    "from scipy import constants\n",
    "print(dir(constants))"
   ]
  },
  {
   "cell_type": "markdown",
   "id": "aefdbaf5",
   "metadata": {},
   "source": [
    "## Unit Categories \n",
    " * Metric\n",
    " * Binary\n",
    " * Mass\n",
    " * Angle\n",
    " * Time\n",
    " * Length\n",
    " * Pressure\n",
    " * Volume\n",
    " * Speed\n",
    " * Temperature\n",
    " * Energy\n",
    " * Power\n",
    " * Force"
   ]
  },
  {
   "cell_type": "markdown",
   "id": "f21e8d15",
   "metadata": {},
   "source": [
    "## Metric (SI) Prefixes:"
   ]
  },
  {
   "cell_type": "code",
   "execution_count": 26,
   "id": "0ce828b7",
   "metadata": {},
   "outputs": [
    {
     "name": "stdout",
     "output_type": "stream",
     "text": [
      "1000.0\n",
      "100.0\n"
     ]
    }
   ],
   "source": [
    "from scipy import constants      \n",
    "print(constants.kilo)     \n",
    "print(constants.hecto)  "
   ]
  },
  {
   "cell_type": "markdown",
   "id": "f446d081",
   "metadata": {},
   "source": [
    "## Binary Prefixes:"
   ]
  },
  {
   "cell_type": "code",
   "execution_count": 27,
   "id": "0ccd6561",
   "metadata": {},
   "outputs": [
    {
     "name": "stdout",
     "output_type": "stream",
     "text": [
      "1024\n",
      "1048576\n",
      "1073741824\n"
     ]
    }
   ],
   "source": [
    "from scipy import constants\n",
    "print(constants.kibi)\n",
    "print(constants.mebi)\n",
    "print(constants.gibi)"
   ]
  },
  {
   "cell_type": "markdown",
   "id": "b6458bc7",
   "metadata": {},
   "source": [
    "## Mass:"
   ]
  },
  {
   "cell_type": "code",
   "execution_count": 28,
   "id": "e50736d6",
   "metadata": {},
   "outputs": [
    {
     "name": "stdout",
     "output_type": "stream",
     "text": [
      "0.001\n",
      "0.45359236999999997\n",
      "0.45359236999999997\n"
     ]
    }
   ],
   "source": [
    "from scipy import constants\n",
    "print(constants.gram)\n",
    "print(constants.lb)\n",
    "print(constants.pound)"
   ]
  },
  {
   "cell_type": "markdown",
   "id": "c88dc5d3",
   "metadata": {},
   "source": [
    "## Angle:"
   ]
  },
  {
   "cell_type": "code",
   "execution_count": 30,
   "id": "28958d40",
   "metadata": {},
   "outputs": [
    {
     "name": "stdout",
     "output_type": "stream",
     "text": [
      "0.017453292519943295\n",
      "0.0002908882086657216\n"
     ]
    }
   ],
   "source": [
    "from scipy import constants\n",
    "print(constants.degree)\n",
    "print(constants.arcminute)"
   ]
  },
  {
   "cell_type": "markdown",
   "id": "2aff5ffa",
   "metadata": {},
   "source": [
    "## Time:"
   ]
  },
  {
   "cell_type": "code",
   "execution_count": 31,
   "id": "576b735b",
   "metadata": {},
   "outputs": [
    {
     "name": "stdout",
     "output_type": "stream",
     "text": [
      "60.0\n",
      "3600.0\n",
      "86400.0\n",
      "31536000.0\n"
     ]
    }
   ],
   "source": [
    "from scipy import constants\n",
    "print(constants.minute)\n",
    "print(constants.hour)\n",
    "print(constants.day)\n",
    "print(constants.year)"
   ]
  },
  {
   "cell_type": "markdown",
   "id": "239cd903",
   "metadata": {},
   "source": [
    "## Length:"
   ]
  },
  {
   "cell_type": "code",
   "execution_count": 32,
   "id": "f3f5dc90",
   "metadata": {},
   "outputs": [
    {
     "name": "stdout",
     "output_type": "stream",
     "text": [
      "0.0254\n",
      "0.30479999999999996\n",
      "1609.3439999999998\n",
      "9460730472580800.0\n"
     ]
    }
   ],
   "source": [
    "from scipy import constants\n",
    "print(constants.inch)\n",
    "print(constants.foot)\n",
    "print(constants.mile)\n",
    "print(constants.light_year)"
   ]
  },
  {
   "cell_type": "markdown",
   "id": "19dceb28",
   "metadata": {},
   "source": [
    "## Pressure:"
   ]
  },
  {
   "cell_type": "code",
   "execution_count": 33,
   "id": "87d5cfbd",
   "metadata": {},
   "outputs": [
    {
     "name": "stdout",
     "output_type": "stream",
     "text": [
      "101325.0\n",
      "100000.0\n",
      "133.32236842105263\n"
     ]
    }
   ],
   "source": [
    "from scipy import constants\n",
    "print(constants.atm)\n",
    "print(constants.bar)\n",
    "print(constants.mmHg)"
   ]
  },
  {
   "cell_type": "markdown",
   "id": "2992a0db",
   "metadata": {},
   "source": [
    "## Area:"
   ]
  },
  {
   "cell_type": "code",
   "execution_count": 34,
   "id": "9cec34ef",
   "metadata": {},
   "outputs": [
    {
     "name": "stdout",
     "output_type": "stream",
     "text": [
      "10000.0\n",
      "4046.8564223999992\n"
     ]
    }
   ],
   "source": [
    "from scipy import constants\n",
    "print(constants.hectare)\n",
    "print(constants.acre)"
   ]
  },
  {
   "cell_type": "markdown",
   "id": "016b02b0",
   "metadata": {},
   "source": [
    "## Volume:"
   ]
  },
  {
   "cell_type": "code",
   "execution_count": 35,
   "id": "cd24515a",
   "metadata": {},
   "outputs": [
    {
     "name": "stdout",
     "output_type": "stream",
     "text": [
      "0.001\n",
      "0.0037854117839999997\n",
      "0.15898729492799998\n"
     ]
    }
   ],
   "source": [
    "from scipy import constants\n",
    "print(constants.liter)\n",
    "print(constants.gallon)\n",
    "print(constants.barrel)"
   ]
  },
  {
   "cell_type": "markdown",
   "id": "cf9bbd00",
   "metadata": {},
   "source": [
    "## Speed:"
   ]
  },
  {
   "cell_type": "code",
   "execution_count": 36,
   "id": "57df772d",
   "metadata": {},
   "outputs": [
    {
     "name": "stdout",
     "output_type": "stream",
     "text": [
      "0.2777777777777778\n",
      "0.44703999999999994\n",
      "340.5\n"
     ]
    }
   ],
   "source": [
    "from scipy import constants\n",
    "print(constants.kmh)\n",
    "print(constants.mph)\n",
    "print(constants.speed_of_sound)"
   ]
  },
  {
   "cell_type": "markdown",
   "id": "dd5b963a",
   "metadata": {},
   "source": [
    "## Temperature:"
   ]
  },
  {
   "cell_type": "code",
   "execution_count": 38,
   "id": "2235f339",
   "metadata": {},
   "outputs": [
    {
     "name": "stdout",
     "output_type": "stream",
     "text": [
      "273.15\n",
      "0.5555555555555556\n"
     ]
    }
   ],
   "source": [
    "from scipy import constants\n",
    "print(constants.zero_Celsius) \n",
    "print(constants.degree_Fahrenheit)"
   ]
  },
  {
   "cell_type": "markdown",
   "id": "9356117e",
   "metadata": {},
   "source": [
    "## Energy:"
   ]
  },
  {
   "cell_type": "code",
   "execution_count": 39,
   "id": "a77dd65d",
   "metadata": {},
   "outputs": [
    {
     "name": "stdout",
     "output_type": "stream",
     "text": [
      "1.602176634e-19\n",
      "1.602176634e-19\n",
      "4.184\n"
     ]
    }
   ],
   "source": [
    "from scipy import constants\n",
    "print(constants.eV)\n",
    "print(constants.electron_volt)\n",
    "print(constants.calorie)"
   ]
  },
  {
   "cell_type": "markdown",
   "id": "9daaa79d",
   "metadata": {},
   "source": [
    "## Power:"
   ]
  },
  {
   "cell_type": "code",
   "execution_count": 40,
   "id": "50ccb044",
   "metadata": {},
   "outputs": [
    {
     "name": "stdout",
     "output_type": "stream",
     "text": [
      "745.6998715822701\n",
      "745.6998715822701\n"
     ]
    }
   ],
   "source": [
    "from scipy import constants\n",
    "print(constants.hp)   \n",
    "print(constants.horsepower) "
   ]
  },
  {
   "cell_type": "markdown",
   "id": "f8abf571",
   "metadata": {},
   "source": [
    "## Force:"
   ]
  },
  {
   "cell_type": "code",
   "execution_count": 41,
   "id": "f4b4724a",
   "metadata": {},
   "outputs": [
    {
     "name": "stdout",
     "output_type": "stream",
     "text": [
      "4.4482216152605\n",
      "9.80665\n"
     ]
    }
   ],
   "source": [
    "from scipy import constants\n",
    "print(constants.pound_force)\n",
    "print(constants.kilogram_force)"
   ]
  },
  {
   "cell_type": "markdown",
   "id": "a69e1bec",
   "metadata": {},
   "source": [
    "## Optimizers in SciPy\n",
    "**Find root of the equation x + cos(x):**"
   ]
  },
  {
   "cell_type": "code",
   "execution_count": 42,
   "id": "e2004877",
   "metadata": {},
   "outputs": [
    {
     "name": "stdout",
     "output_type": "stream",
     "text": [
      "[-0.73908513]\n"
     ]
    }
   ],
   "source": [
    "from scipy.optimize import root\n",
    "from math import cos\n",
    "def eqn(x):\n",
    "  return x + cos(x)\n",
    "myroot = root(eqn, 0)\n",
    "print(myroot.x)"
   ]
  },
  {
   "cell_type": "markdown",
   "id": "86cc5b44",
   "metadata": {},
   "source": [
    "## Finding Minima\n",
    "We can use scipy.optimize.minimize() function to minimize the function.\n",
    "\n",
    "The minimize() function takes the following arguments:\n",
    "fun - a function representing an equation.\n",
    "x0 - an initial guess for the root.\n",
    "method - name of the method to use. Legal values:\n",
    " * 'CG'\n",
    " * BFGS'\n",
    " * 'Newton-CG'\n",
    " * 'L-BFGS-B'\n",
    " * 'TNC'\n",
    " * 'COBYLA'\n",
    " * 'SLSQP'"
   ]
  },
  {
   "cell_type": "markdown",
   "id": "cc2ef0b6",
   "metadata": {},
   "source": [
    "**Minimize the function x^2 + x + 2 with BFGS:**"
   ]
  },
  {
   "cell_type": "code",
   "execution_count": 43,
   "id": "eb21ea49",
   "metadata": {},
   "outputs": [
    {
     "name": "stdout",
     "output_type": "stream",
     "text": [
      "  message: Optimization terminated successfully.\n",
      "  success: True\n",
      "   status: 0\n",
      "      fun: 1.75\n",
      "        x: [-5.000e-01]\n",
      "      nit: 2\n",
      "      jac: [ 0.000e+00]\n",
      " hess_inv: [[ 5.000e-01]]\n",
      "     nfev: 8\n",
      "     njev: 4\n"
     ]
    }
   ],
   "source": [
    "from scipy.optimize import minimize\n",
    "def eqn(x):\n",
    "  return x**2 + x + 2\n",
    "mymin = minimize(eqn, 0, method='BFGS')\n",
    "print(mymin)"
   ]
  },
  {
   "cell_type": "markdown",
   "id": "b490ebb4",
   "metadata": {},
   "source": [
    "# SciPy Sparse Data"
   ]
  },
  {
   "cell_type": "markdown",
   "id": "6586700c",
   "metadata": {},
   "source": [
    "## CSR Matrix\n",
    "**Create a CSR matrix from an array:**"
   ]
  },
  {
   "cell_type": "code",
   "execution_count": 44,
   "id": "e3f8b83a",
   "metadata": {},
   "outputs": [
    {
     "name": "stdout",
     "output_type": "stream",
     "text": [
      "  (0, 5)\t1\n",
      "  (0, 6)\t1\n",
      "  (0, 8)\t2\n"
     ]
    }
   ],
   "source": [
    "import numpy as np\n",
    "from scipy.sparse import csr_matrix\n",
    "arr = np.array([0, 0, 0, 0, 0, 1, 1, 0, 2])\n",
    "print(csr_matrix(arr))"
   ]
  },
  {
   "cell_type": "markdown",
   "id": "ae08ae71",
   "metadata": {},
   "source": [
    "**Viewing stored data with the data property:**"
   ]
  },
  {
   "cell_type": "code",
   "execution_count": 47,
   "id": "31a2986b",
   "metadata": {},
   "outputs": [
    {
     "name": "stdout",
     "output_type": "stream",
     "text": [
      "[1 1 2]\n"
     ]
    }
   ],
   "source": [
    "import numpy as np\n",
    "from scipy.sparse import csr_matrix\n",
    "arr = np.array([[0, 0, 0], [0, 0, 1], [1, 0, 2]])\n",
    "\n",
    "print(csr_matrix(arr).data)"
   ]
  },
  {
   "cell_type": "markdown",
   "id": "9247fa44",
   "metadata": {},
   "source": [
    "**Counting nonzeros with the count_nonzero() method:**"
   ]
  },
  {
   "cell_type": "code",
   "execution_count": 48,
   "id": "3dbe7202",
   "metadata": {},
   "outputs": [
    {
     "name": "stdout",
     "output_type": "stream",
     "text": [
      "3\n"
     ]
    }
   ],
   "source": [
    "import numpy as np\n",
    "from scipy.sparse import csr_matrix\n",
    "arr = np.array([[0, 0, 0], [0, 0, 1], [1, 0, 2]])\n",
    "\n",
    "print(csr_matrix(arr).count_nonzero())"
   ]
  },
  {
   "cell_type": "markdown",
   "id": "9ae7e588",
   "metadata": {},
   "source": [
    "**Removing zero-entries from the matrix with the eliminate_zeros() method:**"
   ]
  },
  {
   "cell_type": "code",
   "execution_count": 49,
   "id": "5483f8d5",
   "metadata": {},
   "outputs": [
    {
     "name": "stdout",
     "output_type": "stream",
     "text": [
      "  (1, 2)\t1\n",
      "  (2, 0)\t1\n",
      "  (2, 2)\t2\n"
     ]
    }
   ],
   "source": [
    "import numpy as np\n",
    "from scipy.sparse import csr_matrix\n",
    "arr = np.array([[0, 0, 0], [0, 0, 1], [1, 0, 2]])\n",
    "\n",
    "mat = csr_matrix(arr)\n",
    "mat.eliminate_zeros()\n",
    "print(mat)"
   ]
  },
  {
   "cell_type": "markdown",
   "id": "db9579d7",
   "metadata": {},
   "source": [
    "**Eliminating duplicate entries with the sum_duplicates() method:**"
   ]
  },
  {
   "cell_type": "code",
   "execution_count": 50,
   "id": "bf74ed02",
   "metadata": {},
   "outputs": [
    {
     "name": "stdout",
     "output_type": "stream",
     "text": [
      "  (1, 2)\t1\n",
      "  (2, 0)\t1\n",
      "  (2, 2)\t2\n"
     ]
    }
   ],
   "source": [
    "import numpy as np\n",
    "from scipy.sparse import csr_matrix\n",
    "arr = np.array([[0, 0, 0], [0, 0, 1], [1, 0, 2]])\n",
    "\n",
    "mat = csr_matrix(arr)\n",
    "mat.sum_duplicates()\n",
    "print(mat)"
   ]
  },
  {
   "cell_type": "markdown",
   "id": "15a5c509",
   "metadata": {},
   "source": [
    "**Converting from csr to csc with the tocsc() method:**"
   ]
  },
  {
   "cell_type": "code",
   "execution_count": 51,
   "id": "15df6103",
   "metadata": {},
   "outputs": [
    {
     "name": "stdout",
     "output_type": "stream",
     "text": [
      "  (2, 0)\t1\n",
      "  (1, 2)\t1\n",
      "  (2, 2)\t2\n"
     ]
    }
   ],
   "source": [
    "import numpy as np\n",
    "from scipy.sparse import csr_matrix\n",
    "arr = np.array([[0, 0, 0], [0, 0, 1], [1, 0, 2]])\n",
    "\n",
    "newarr = csr_matrix(arr).tocsc()\n",
    "print(newarr)"
   ]
  },
  {
   "cell_type": "markdown",
   "id": "660ebc27",
   "metadata": {},
   "source": [
    "# SciPy Graphs"
   ]
  },
  {
   "cell_type": "code",
   "execution_count": 52,
   "id": "f3afc1cc",
   "metadata": {},
   "outputs": [
    {
     "name": "stdout",
     "output_type": "stream",
     "text": [
      "(1, array([0, 0, 0]))\n"
     ]
    }
   ],
   "source": [
    "import numpy as np\n",
    "from scipy.sparse.csgraph import connected_components\n",
    "from scipy.sparse import csr_matrix\n",
    "\n",
    "arr = np.array([\n",
    "  [0, 1, 2],\n",
    "  [1, 0, 0],\n",
    "  [2, 0, 0]\n",
    "])\n",
    "newarr = csr_matrix(arr)\n",
    "print(connected_components(newarr))"
   ]
  },
  {
   "cell_type": "markdown",
   "id": "7622ebe5",
   "metadata": {},
   "source": [
    "**Dijkstra**"
   ]
  },
  {
   "cell_type": "code",
   "execution_count": 53,
   "id": "230166d5",
   "metadata": {},
   "outputs": [
    {
     "name": "stdout",
     "output_type": "stream",
     "text": [
      "(array([0., 1., 2.]), array([-9999,     0,     0]))\n"
     ]
    }
   ],
   "source": [
    "import numpy as np\n",
    "from scipy.sparse.csgraph import dijkstra\n",
    "from scipy.sparse import csr_matrix\n",
    "\n",
    "arr = np.array([\n",
    "  [0, 1, 2],\n",
    "  [1, 0, 0],\n",
    "  [2, 0, 0]\n",
    "])\n",
    "newarr = csr_matrix(arr)\n",
    "print(dijkstra(newarr, return_predecessors=True, indices=0))"
   ]
  },
  {
   "cell_type": "markdown",
   "id": "776dd8f3",
   "metadata": {},
   "source": [
    "**Floyd Warshall**"
   ]
  },
  {
   "cell_type": "code",
   "execution_count": 54,
   "id": "bb16e41c",
   "metadata": {},
   "outputs": [
    {
     "name": "stdout",
     "output_type": "stream",
     "text": [
      "(array([[0., 1., 2.],\n",
      "       [1., 0., 3.],\n",
      "       [2., 3., 0.]]), array([[-9999,     0,     0],\n",
      "       [    1, -9999,     0],\n",
      "       [    2,     0, -9999]]))\n"
     ]
    }
   ],
   "source": [
    "import numpy as np\n",
    "from scipy.sparse.csgraph import floyd_warshall\n",
    "from scipy.sparse import csr_matrix\n",
    "\n",
    "arr = np.array([\n",
    "  [0, 1, 2],\n",
    "  [1, 0, 0],\n",
    "  [2, 0, 0]\n",
    "])\n",
    "newarr = csr_matrix(arr)\n",
    "print(floyd_warshall(newarr, return_predecessors=True))"
   ]
  },
  {
   "cell_type": "markdown",
   "id": "13959863",
   "metadata": {},
   "source": [
    "**Bellman Ford**"
   ]
  },
  {
   "cell_type": "code",
   "execution_count": 55,
   "id": "d69fa386",
   "metadata": {},
   "outputs": [
    {
     "name": "stdout",
     "output_type": "stream",
     "text": [
      "(array([ 0., -1.,  2.]), array([-9999,     0,     0]))\n"
     ]
    }
   ],
   "source": [
    "import numpy as np\n",
    "from scipy.sparse.csgraph import bellman_ford\n",
    "from scipy.sparse import csr_matrix\n",
    "\n",
    "arr = np.array([\n",
    "  [0, -1, 2],\n",
    "  [1, 0, 0],\n",
    "  [2, 0, 0]\n",
    "])\n",
    "newarr = csr_matrix(arr)\n",
    "print(bellman_ford(newarr, return_predecessors=True, indices=0))"
   ]
  },
  {
   "cell_type": "markdown",
   "id": "690e520e",
   "metadata": {},
   "source": [
    "**Depth First Order**"
   ]
  },
  {
   "cell_type": "code",
   "execution_count": 56,
   "id": "59444a09",
   "metadata": {},
   "outputs": [
    {
     "name": "stdout",
     "output_type": "stream",
     "text": [
      "(array([1, 0, 3, 2]), array([    1, -9999,     1,     0]))\n"
     ]
    }
   ],
   "source": [
    "import numpy as np\n",
    "from scipy.sparse.csgraph import depth_first_order\n",
    "from scipy.sparse import csr_matrix\n",
    "\n",
    "arr = np.array([\n",
    "  [0, 1, 0, 1],\n",
    "  [1, 1, 1, 1],\n",
    "  [2, 1, 1, 0],\n",
    "  [0, 1, 0, 1]\n",
    "])\n",
    "newarr = csr_matrix(arr)\n",
    "print(depth_first_order(newarr, 1))"
   ]
  },
  {
   "cell_type": "markdown",
   "id": "d8b46525",
   "metadata": {},
   "source": [
    "**Breadth First Order**"
   ]
  },
  {
   "cell_type": "code",
   "execution_count": 57,
   "id": "55d7ad60",
   "metadata": {},
   "outputs": [
    {
     "name": "stdout",
     "output_type": "stream",
     "text": [
      "(array([1, 0, 2, 3]), array([    1, -9999,     1,     1]))\n"
     ]
    }
   ],
   "source": [
    "import numpy as np\n",
    "from scipy.sparse.csgraph import breadth_first_order\n",
    "from scipy.sparse import csr_matrix\n",
    "\n",
    "arr = np.array([\n",
    "  [0, 1, 0, 1],\n",
    "  [1, 1, 1, 1],\n",
    "  [2, 1, 1, 0],\n",
    "  [0, 1, 0, 1]\n",
    "])\n",
    "newarr = csr_matrix(arr)\n",
    "print(breadth_first_order(newarr, 1))"
   ]
  },
  {
   "cell_type": "markdown",
   "id": "028e3884",
   "metadata": {},
   "source": [
    "# SciPy Spatial Data"
   ]
  },
  {
   "cell_type": "code",
   "execution_count": 58,
   "id": "8eb7dae1",
   "metadata": {},
   "outputs": [
    {
     "data": {
      "image/png": "[encoded data removed]",
      "text/plain": [
       "<Figure size 640x480 with 1 Axes>"
      ]
     },
     "metadata": {},
     "output_type": "display_data"
    }
   ],
   "source": [
    "import numpy as np\n",
    "from scipy.spatial import Delaunay\n",
    "import matplotlib.pyplot as plt\n",
    "\n",
    "points = np.array([\n",
    "  [2, 4],\n",
    "  [3, 4],\n",
    "  [3, 0],\n",
    "  [2, 2],\n",
    "  [4, 1]\n",
    "])\n",
    "simplices = Delaunay(points).simplices\n",
    "plt.triplot(points[:, 0], points[:, 1], simplices)\n",
    "plt.scatter(points[:, 0], points[:, 1], color='r')\n",
    "plt.show()"
   ]
  },
  {
   "cell_type": "code",
   "execution_count": 1,
   "id": "9b5dbcc4",
   "metadata": {},
   "outputs": [
    {
     "data": {
      "image/png": "[encoded data removed]",
      "text/plain": [
       "<Figure size 640x480 with 1 Axes>"
      ]
     },
     "metadata": {},
     "output_type": "display_data"
    }
   ],
   "source": [
    "import numpy as np\n",
    "from scipy.spatial import ConvexHull\n",
    "import matplotlib.pyplot as plt\n",
    "\n",
    "points = np.array([\n",
    "  [2, 4],\n",
    "  [3, 4],\n",
    "  [3, 0],\n",
    "  [2, 2],\n",
    "  [4, 1],\n",
    "  [1, 2],\n",
    "  [5, 0],\n",
    "  [3, 1],\n",
    "  [1, 2],\n",
    "  [0, 2]\n",
    "])\n",
    "hull = ConvexHull(points)\n",
    "hull_points = hull.simplices\n",
    "plt.scatter(points[:,0], points[:,1])\n",
    "for simplex in hull_points:\n",
    "  plt.plot(points[simplex,0], points[simplex,1], 'k-')\n",
    "plt.show()"
   ]
  },
  {
   "cell_type": "markdown",
   "id": "a9f1488b",
   "metadata": {},
   "source": [
    "# SciPy Matlab Arrays"
   ]
  },
  {
   "cell_type": "code",
   "execution_count": 2,
   "id": "70883825",
   "metadata": {},
   "outputs": [],
   "source": [
    "from scipy import io\n",
    "import numpy as np\n",
    "arr = np.arange(10)\n",
    "io.savemat('arr.mat', {\"vec\": arr})"
   ]
  },
  {
   "cell_type": "code",
   "execution_count": 3,
   "id": "88909fe0",
   "metadata": {},
   "outputs": [
    {
     "name": "stdout",
     "output_type": "stream",
     "text": [
      "{'__header__': b'MATLAB 5.0 MAT-file Platform: nt, Created on: Thu Jul 20 23:41:30 2023', '__version__': '1.0', '__globals__': [], 'vec': array([[0, 1, 2, 3, 4, 5, 6, 7, 8, 9]])}\n"
     ]
    }
   ],
   "source": [
    "from scipy import io\n",
    "import numpy as np\n",
    "arr = np.array([0, 1, 2, 3, 4, 5, 6, 7, 8, 9,])\n",
    "\n",
    "# Export:\n",
    "io.savemat('arr.mat', {\"vec\": arr})\n",
    "# Import:\n",
    "mydata = io.loadmat('arr.mat')\n",
    "\n",
    "print(mydata)"
   ]
  },
  {
   "cell_type": "code",
   "execution_count": 4,
   "id": "1a3ea3d9",
   "metadata": {},
   "outputs": [
    {
     "name": "stdout",
     "output_type": "stream",
     "text": [
      "[[0 1 2 3 4 5 6 7 8 9]]\n"
     ]
    }
   ],
   "source": [
    "print(mydata['vec'])"
   ]
  },
  {
   "cell_type": "code",
   "execution_count": 5,
   "id": "8152c930",
   "metadata": {},
   "outputs": [
    {
     "name": "stdout",
     "output_type": "stream",
     "text": [
      "[0 1 2 3 4 5 6 7 8 9]\n"
     ]
    }
   ],
   "source": [
    "# Import:\n",
    "mydata = io.loadmat('arr.mat', squeeze_me=True)\n",
    "print(mydata['vec'])"
   ]
  },
  {
   "cell_type": "markdown",
   "id": "6a40931b",
   "metadata": {},
   "source": [
    "# SciPy Interpolation"
   ]
  },
  {
   "cell_type": "markdown",
   "id": "9c411931",
   "metadata": {},
   "source": [
    "**1D Interpolation**"
   ]
  },
  {
   "cell_type": "code",
   "execution_count": 6,
   "id": "585f2f92",
   "metadata": {},
   "outputs": [
    {
     "name": "stdout",
     "output_type": "stream",
     "text": [
      "[5.2 5.4 5.6 5.8 6.  6.2 6.4 6.6 6.8]\n"
     ]
    }
   ],
   "source": [
    "from scipy.interpolate import interp1d\n",
    "import numpy as np\n",
    "xs = np.arange(10)\n",
    "ys = 2*xs + 1\n",
    "interp_func = interp1d(xs, ys)\n",
    "newarr = interp_func(np.arange(2.1, 3, 0.1))\n",
    "print(newarr)"
   ]
  },
  {
   "cell_type": "markdown",
   "id": "d91881e4",
   "metadata": {},
   "source": [
    "**Spline Interpolation**"
   ]
  },
  {
   "cell_type": "code",
   "execution_count": 7,
   "id": "c3a9e5f2",
   "metadata": {},
   "outputs": [
    {
     "name": "stdout",
     "output_type": "stream",
     "text": [
      "[5.62826474 6.03987348 6.47131994 6.92265019 7.3939103  7.88514634\n",
      " 8.39640439 8.92773053 9.47917082]\n"
     ]
    }
   ],
   "source": [
    "from scipy.interpolate import UnivariateSpline\n",
    "import numpy as np\n",
    "xs = np.arange(10)\n",
    "ys = xs**2 + np.sin(xs) + 1\n",
    "interp_func = UnivariateSpline(xs, ys)\n",
    "newarr = interp_func(np.arange(2.1, 3, 0.1))\n",
    "print(newarr)"
   ]
  },
  {
   "cell_type": "markdown",
   "id": "9a6b6b90",
   "metadata": {},
   "source": [
    "**Interpolation with Radial Basis Function**"
   ]
  },
  {
   "cell_type": "code",
   "execution_count": 8,
   "id": "a974e832",
   "metadata": {},
   "outputs": [
    {
     "name": "stdout",
     "output_type": "stream",
     "text": [
      "[6.25748981 6.62190817 7.00310702 7.40121814 7.8161443  8.24773402\n",
      " 8.69590519 9.16070828 9.64233874]\n"
     ]
    }
   ],
   "source": [
    "from scipy.interpolate import Rbf\n",
    "import numpy as np\n",
    "xs = np.arange(10)\n",
    "ys = xs**2 + np.sin(xs) + 1\n",
    "interp_func = Rbf(xs, ys)\n",
    "newarr = interp_func(np.arange(2.1, 3, 0.1))\n",
    "print(newarr)"
   ]
  },
  {
   "cell_type": "markdown",
   "id": "f0278d23",
   "metadata": {},
   "source": [
    "# SciPy Statistical Significance Tests"
   ]
  },
  {
   "cell_type": "markdown",
   "id": "249d3923",
   "metadata": {},
   "source": [
    "**ttest_ind() takes two samples of same size and produces a tuple of t-statistic and p-value**"
   ]
  },
  {
   "cell_type": "code",
   "execution_count": 9,
   "id": "7a8390f6",
   "metadata": {},
   "outputs": [
    {
     "name": "stdout",
     "output_type": "stream",
     "text": [
      "Ttest_indResult(statistic=-0.7635333059006066, pvalue=0.44605423215553075)\n"
     ]
    }
   ],
   "source": [
    "import numpy as np\n",
    "from scipy.stats import ttest_ind\n",
    "v1 = np.random.normal(size=100)\n",
    "v2 = np.random.normal(size=100)\n",
    "res = ttest_ind(v1, v2)\n",
    "print(res)"
   ]
  },
  {
   "cell_type": "markdown",
   "id": "a10ddedb",
   "metadata": {},
   "source": [
    "**If you want to return only the p-value, use the pvalue property:**"
   ]
  },
  {
   "cell_type": "code",
   "execution_count": 10,
   "id": "2da629ab",
   "metadata": {},
   "outputs": [
    {
     "name": "stdout",
     "output_type": "stream",
     "text": [
      "0.44605423215553075\n"
     ]
    }
   ],
   "source": [
    "res = ttest_ind(v1, v2).pvalue\n",
    "print(res)"
   ]
  },
  {
   "cell_type": "markdown",
   "id": "53907795",
   "metadata": {},
   "source": [
    "## KS-Test"
   ]
  },
  {
   "cell_type": "code",
   "execution_count": 11,
   "id": "4e9e6dd4",
   "metadata": {},
   "outputs": [
    {
     "name": "stdout",
     "output_type": "stream",
     "text": [
      "KstestResult(statistic=0.08386686666256804, pvalue=0.45801581009841486, statistic_location=0.9695591830017494, statistic_sign=-1)\n"
     ]
    }
   ],
   "source": [
    "import numpy as np\n",
    "from scipy.stats import kstest\n",
    "v = np.random.normal(size=100)\n",
    "res = kstest(v, 'norm')\n",
    "print(res)"
   ]
  },
  {
   "cell_type": "markdown",
   "id": "67f1eaa3",
   "metadata": {},
   "source": [
    "**Statistical Description of Data**"
   ]
  },
  {
   "cell_type": "code",
   "execution_count": 12,
   "id": "e3fe2ddc",
   "metadata": {},
   "outputs": [
    {
     "name": "stdout",
     "output_type": "stream",
     "text": [
      "DescribeResult(nobs=100, minmax=(-2.364312591573943, 1.4921627939525228), mean=-0.2305793451978387, variance=0.7797943616683772, skewness=-0.22405146553364683, kurtosis=-0.8367834577873716)\n"
     ]
    }
   ],
   "source": [
    "import numpy as np\n",
    "from scipy.stats import describe\n",
    "v = np.random.normal(size=100)\n",
    "res = describe(v)\n",
    "print(res)"
   ]
  },
  {
   "cell_type": "markdown",
   "id": "30c133fd",
   "metadata": {},
   "source": [
    "**normaltest() function returns p value for the null hypothesis:**\n",
    "## Kurtosis:"
   ]
  },
  {
   "cell_type": "code",
   "execution_count": 13,
   "id": "65c0527d",
   "metadata": {},
   "outputs": [
    {
     "name": "stdout",
     "output_type": "stream",
     "text": [
      "-0.07954799616150789\n",
      "-0.39731632090218794\n"
     ]
    }
   ],
   "source": [
    "import numpy as np\n",
    "from scipy.stats import skew, kurtosis\n",
    "v = np.random.normal(size=100)\n",
    "print(skew(v))\n",
    "print(kurtosis(v))"
   ]
  },
  {
   "cell_type": "code",
   "execution_count": 14,
   "id": "e5ce484c",
   "metadata": {},
   "outputs": [
    {
     "name": "stdout",
     "output_type": "stream",
     "text": [
      "NormaltestResult(statistic=11.107881478714857, pvalue=0.0038721679330962037)\n"
     ]
    }
   ],
   "source": [
    "import numpy as np\n",
    "from scipy.stats import normaltest\n",
    "v = np.random.normal(size=100)\n",
    "print(normaltest(v))"
   ]
  },
  {
   "cell_type": "code",
   "execution_count": null,
   "id": "7f37fa4e",
   "metadata": {},
   "outputs": [],
   "source": []
  }
 ],
 "metadata": {
  "kernelspec": {
   "display_name": "Python 3 (ipykernel)",
   "language": "python",
   "name": "python3"
  },
  "language_info": {
   "codemirror_mode": {
    "name": "ipython",
    "version": 3
   },
   "file_extension": ".py",
   "mimetype": "text/x-python",
   "name": "python",
   "nbconvert_exporter": "python",
   "pygments_lexer": "ipython3",
   "version": "3.10.9"
  }
 },
 "nbformat": 4,
 "nbformat_minor": 5
}
