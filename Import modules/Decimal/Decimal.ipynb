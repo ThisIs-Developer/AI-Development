{
 "cells": [
  {
   "cell_type": "markdown",
   "id": "e545eefb",
   "metadata": {},
   "source": [
    "# import decimal"
   ]
  },
  {
   "cell_type": "code",
   "execution_count": 1,
   "id": "ef0491df",
   "metadata": {},
   "outputs": [
    {
     "name": "stdout",
     "output_type": "stream",
     "text": [
      "Enter a float number : 6.9\n",
      "Number :  6.9\n",
      "exp :  992.27472\n",
      "sqrt :  31.50039\n"
     ]
    }
   ],
   "source": [
    "import decimal\n",
    "a=float(input(\"Enter a float number : \"))\n",
    "a=decimal.Decimal(a)\n",
    "print(\"Number : \",round(a,1))\n",
    "a=decimal.Decimal(a).exp()\n",
    "print(\"exp : \",round(a,5))\n",
    "a=decimal.Decimal(a).sqrt()\n",
    "print(\"sqrt : \",round(a,5))"
   ]
  },
  {
   "cell_type": "code",
   "execution_count": 2,
   "id": "54df1ac9",
   "metadata": {},
   "outputs": [
    {
     "name": "stdout",
     "output_type": "stream",
     "text": [
      "Enter a float number : 4.3\n",
      "ln :  1.45862\n",
      "log10 :  0.16394\n"
     ]
    }
   ],
   "source": [
    "import decimal\n",
    "a=float(input(\"Enter a float number : \"))\n",
    "a=decimal.Decimal(a).ln()\n",
    "print(\"ln : \",round(a,5))\n",
    "a=decimal.Decimal(a).log10()\n",
    "print(\"log10 : \",round(a,5))"
   ]
  },
  {
   "cell_type": "code",
   "execution_count": 3,
   "id": "ec373764",
   "metadata": {},
   "outputs": [
    {
     "name": "stdout",
     "output_type": "stream",
     "text": [
      "Enter a float number : 9.1\n",
      "Tuple:  DecimalTuple(sign=0, digits=(9, 0, 9, 9, 9, 9, 9, 9, 9, 9, 9, 9, 9, 9, 9, 9, 6, 4, 4, 7, 2, 8, 6, 3, 2, 1, 1, 9, 9, 4, 9, 9, 0, 7, 0, 6, 4, 4, 3, 7, 8, 6, 6, 2, 1, 0, 9, 3, 7, 5), exponent=-49)\n"
     ]
    }
   ],
   "source": [
    "import decimal\n",
    "a=float(input(\"Enter a float number : \"))\n",
    "a=decimal.Decimal(a).as_tuple()\n",
    "print(\"Tuple: \",a)"
   ]
  },
  {
   "cell_type": "code",
   "execution_count": 4,
   "id": "38814c64",
   "metadata": {},
   "outputs": [
    {
     "name": "stdout",
     "output_type": "stream",
     "text": [
      "Enter a float number : 4.8\n",
      "Fused multiplication and addition :  25.59999999999999964472863212\n"
     ]
    }
   ],
   "source": [
    "import decimal\n",
    "a=float(input(\"Enter a float number : \"))\n",
    "a=decimal.Decimal(a).fma(2,16) # fma=*,+\n",
    "print(\"Fused multiplication and addition : \",a)"
   ]
  },
  {
   "cell_type": "code",
   "execution_count": 5,
   "id": "a1001e9f",
   "metadata": {},
   "outputs": [
    {
     "name": "stdout",
     "output_type": "stream",
     "text": [
      "Enter a float number : 7.3\n",
      "Enter a float number : 1.2\n",
      "The of comperision using compare() is :  1\n"
     ]
    }
   ],
   "source": [
    "import decimal\n",
    "a=float(input(\"Enter a float number : \"))\n",
    "a=decimal.Decimal(a)\n",
    "b=float(input(\"Enter a float number : \"))\n",
    "b=decimal.Decimal(b)\n",
    "print(\"The of comperision using compare() is : \",end=' ')\n",
    "print(a.compare(b))"
   ]
  },
  {
   "cell_type": "code",
   "execution_count": 6,
   "id": "fc64df82",
   "metadata": {},
   "outputs": [
    {
     "name": "stdout",
     "output_type": "stream",
     "text": [
      "Enter a float number : 9.4\n",
      "Enter a float number : 6.5\n",
      "The absolute value using copy_abs() is :  9.400\n",
      "The negated value using copy_negate() is :  -9.400\n",
      "The sign effected value using copy_sign() is :  9.400\n"
     ]
    }
   ],
   "source": [
    "import decimal\n",
    "a=float(input(\"Enter a float number : \"))\n",
    "a=decimal.Decimal(a)\n",
    "b=float(input(\"Enter a float number : \"))\n",
    "b=decimal.Decimal(b)\n",
    "print(\"The absolute value using copy_abs() is : \",end=' ')\n",
    "print(round(a.copy_abs(),3))\n",
    "print(\"The negated value using copy_negate() is : \",end=' ')\n",
    "print(round(a.copy_negate(),3))\n",
    "print(\"The sign effected value using copy_sign() is : \",end=' ')\n",
    "print(round(a.copy_sign(b),3))"
   ]
  },
  {
   "cell_type": "code",
   "execution_count": 7,
   "id": "a518ff51",
   "metadata": {},
   "outputs": [
    {
     "name": "stdout",
     "output_type": "stream",
     "text": [
      "Enter a float number : 5.6\n",
      "Enter a float number : 2.3\n",
      "The mininum of two number is :  2.3\n",
      "The maxnum of two number is :  5.6\n"
     ]
    }
   ],
   "source": [
    "import decimal\n",
    "a=float(input(\"Enter a float number : \"))\n",
    "a=decimal.Decimal(a)\n",
    "b=float(input(\"Enter a float number : \"))\n",
    "b=decimal.Decimal(b)\n",
    "print(\"The mininum of two number is : \",end=\" \")\n",
    "print(round(a.min(b),1))\n",
    "print(\"The maxnum of two number is : \",end=\" \")\n",
    "print(round(a.max(b),1))"
   ]
  }
 ],
 "metadata": {
  "kernelspec": {
   "display_name": "Python 3 (ipykernel)",
   "language": "python",
   "name": "python3"
  },
  "language_info": {
   "codemirror_mode": {
    "name": "ipython",
    "version": 3
   },
   "file_extension": ".py",
   "mimetype": "text/x-python",
   "name": "python",
   "nbconvert_exporter": "python",
   "pygments_lexer": "ipython3",
   "version": "3.10.9"
  }
 },
 "nbformat": 4,
 "nbformat_minor": 5
}
