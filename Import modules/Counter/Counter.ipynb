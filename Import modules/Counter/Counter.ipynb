{
 "cells": [
  {
   "cell_type": "markdown",
   "id": "c6d4dacf",
   "metadata": {},
   "source": [
    "# from collections import Counter"
   ]
  },
  {
   "cell_type": "code",
   "execution_count": 18,
   "id": "4d2bc999",
   "metadata": {},
   "outputs": [
    {
     "name": "stdout",
     "output_type": "stream",
     "text": [
      "The original dictionary 1: {'gfg': 6, 'is': 4, 'best': 7}\n",
      "The original dictionary 1: {'gfg': 10, 'is': 6, 'best': 10}\n",
      "The difference dictionary is: {'gfg': 4, 'is': 2, 'best': 3}\n"
     ]
    }
   ],
   "source": [
    "test_dict1={\n",
    "    'gfg':6,\n",
    "    'is':4,\n",
    "    'best':7\n",
    "}\n",
    "test_dict2={\n",
    "    'gfg':10,\n",
    "    'is':6,\n",
    "    'best':10\n",
    "}\n",
    "print(\"The original dictionary 1: \" + str(test_dict1))\n",
    "print(\"The original dictionary 1: \" + str(test_dict2))\n",
    "res={ key: test_dict2[key]-test_dict1.get(key,0) for key in test_dict2.keys() }\n",
    "print(\"The difference dictionary is: \"+str(res))"
   ]
  },
  {
   "cell_type": "code",
   "execution_count": 19,
   "id": "c8a052cb",
   "metadata": {},
   "outputs": [
    {
     "name": "stdout",
     "output_type": "stream",
     "text": [
      "The Difference Dictionary is  : {'gfg': 4, 'is': 2, 'best': 3}\n",
      "The Difference Dictionary is  : {}\n"
     ]
    }
   ],
   "source": [
    "from collections import Counter\n",
    "temp1=Counter(test_dict1)\n",
    "temp2=Counter(test_dict2)\n",
    "res=temp2-temp1\n",
    "print(\"The Difference Dictionary is  : \"+str(dict(res)))\n",
    "res=temp1-temp2\n",
    "print(\"The Difference Dictionary is  : \"+str(dict(res)))"
   ]
  },
  {
   "cell_type": "code",
   "execution_count": 20,
   "id": "5742fa61",
   "metadata": {},
   "outputs": [
    {
     "name": "stdout",
     "output_type": "stream",
     "text": [
      "Counter({'B': 5, 'A': 3, 'C': 2})\n",
      "Counter({'B': 5, 'A': 3, 'C': 2})\n",
      "Counter({'B': 5, 'A': 3, 'C': 2})\n"
     ]
    }
   ],
   "source": [
    "from collections import Counter\n",
    "#With sequence of items\n",
    "print(Counter(['B','B','A','B','C','A','B','B','A','C']))\n",
    "#With dictionary\n",
    "print(Counter({'A':3,'B':5,'C':2}))\n",
    "#With Keyword arguments\n",
    "print(Counter(A=3, B=5,C=2))"
   ]
  },
  {
   "cell_type": "code",
   "execution_count": 21,
   "id": "89030cc9",
   "metadata": {},
   "outputs": [
    {
     "name": "stdout",
     "output_type": "stream",
     "text": [
      "Counter()\n",
      "Counter({1: 2, 2: 1, 3: 1, 5: 1})\n",
      "Counter({1: 3, 2: 2, 3: 1, 5: 1, 4: 1})\n"
     ]
    }
   ],
   "source": [
    "from collections import Counter\n",
    "coun=Counter()\n",
    "print(coun)\n",
    "coun.update([1,1,2,3,5])\n",
    "print(coun)\n",
    "coun.update([1,2,4])\n",
    "print(coun)"
   ]
  },
  {
   "cell_type": "code",
   "execution_count": 22,
   "id": "45aed98b",
   "metadata": {},
   "outputs": [
    {
     "name": "stdout",
     "output_type": "stream",
     "text": [
      "Counter({'C': 10, 'B': 5, 'A': 4})\n",
      "Counter({'A': 10, 'C': 4, 'B': 3})\n",
      "Counter({'C': 6, 'B': 2, 'A': -6})\n"
     ]
    }
   ],
   "source": [
    "from collections import Counter\n",
    "c1=Counter(A=4,B=5,C=10)\n",
    "c2=Counter(A=10,B=3,C=4)\n",
    "print(c1)\n",
    "print(c2)\n",
    "c1.subtract(c2)\n",
    "print(c1)"
   ]
  },
  {
   "cell_type": "code",
   "execution_count": 23,
   "id": "b66b1244",
   "metadata": {},
   "outputs": [
    {
     "name": "stdout",
     "output_type": "stream",
     "text": [
      "Counter({'Yellow': 3, 'Red': 2, 'Green': 2, 'Blue': 1, 'White': 1})\n"
     ]
    }
   ],
   "source": [
    "from collections import Counter\n",
    "z=['Blue','Red','Green','Yellow','White','Red','Green','Yellow','Yellow']\n",
    "print(Counter(z))"
   ]
  }
 ],
 "metadata": {
  "kernelspec": {
   "display_name": "Python 3 (ipykernel)",
   "language": "python",
   "name": "python3"
  },
  "language_info": {
   "codemirror_mode": {
    "name": "ipython",
    "version": 3
   },
   "file_extension": ".py",
   "mimetype": "text/x-python",
   "name": "python",
   "nbconvert_exporter": "python",
   "pygments_lexer": "ipython3",
   "version": "3.10.9"
  }
 },
 "nbformat": 4,
 "nbformat_minor": 5
}
