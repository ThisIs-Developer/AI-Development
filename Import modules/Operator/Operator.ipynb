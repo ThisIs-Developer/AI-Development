{
 "cells": [
  {
   "cell_type": "markdown",
   "id": "9880ff69",
   "metadata": {},
   "source": [
    "# import operator"
   ]
  },
  {
   "cell_type": "code",
   "execution_count": 2,
   "id": "9ccbf289",
   "metadata": {},
   "outputs": [
    {
     "name": "stdout",
     "output_type": "stream",
     "text": [
      "Enter a number : 6\n",
      "Enter another number : 5\n",
      "The addition of number is :  11\n"
     ]
    }
   ],
   "source": [
    "import operator\n",
    "a=int(input(\"Enter a number : \"))\n",
    "b=int(input(\"Enter another number : \"))\n",
    "print(\"The addition of number is : \",end=' ')\n",
    "print(operator.add(a,b))"
   ]
  },
  {
   "cell_type": "code",
   "execution_count": 3,
   "id": "e0573b9f",
   "metadata": {},
   "outputs": [
    {
     "name": "stdout",
     "output_type": "stream",
     "text": [
      "Enter a number : 5\n",
      "Enter another number : 9\n",
      "The true division of number is :  0.5555555555555556\n",
      "The floor division of number is :  0\n"
     ]
    }
   ],
   "source": [
    "import operator\n",
    "a=int(input(\"Enter a number : \"))\n",
    "b=int(input(\"Enter another number : \"))\n",
    "print(\"The true division of number is : \",end=' ')\n",
    "print(operator.truediv(a,b))\n",
    "print(\"The floor division of number is : \",end=' ')\n",
    "print(operator.floordiv(a,b))"
   ]
  },
  {
   "cell_type": "code",
   "execution_count": 4,
   "id": "b05734ce",
   "metadata": {},
   "outputs": [
    {
     "name": "stdout",
     "output_type": "stream",
     "text": [
      "Enter a number : 5\n",
      "Enter another number : 4\n",
      "a is not less then b\n",
      "\n",
      "a is not less then or equal to b\n",
      "\n",
      "a not equal to b\n"
     ]
    }
   ],
   "source": [
    "import operator\n",
    "a=int(input(\"Enter a number : \"))\n",
    "b=int(input(\"Enter another number : \"))\n",
    "if(operator.lt(a,b)):\n",
    "  print(\"a is less then b\")\n",
    "else:\n",
    "  print(\"a is not less then b\")\n",
    "print(\"\")\n",
    "if(operator.le(a,b)):\n",
    "  print(\"a is less then or equal to b\")\n",
    "else:\n",
    "  print(\"a is not less then or equal to b\")\n",
    "print(\"\")\n",
    "if(operator.eq(a,b)):\n",
    "  print(\"a is equal to b\")\n",
    "else:\n",
    "  print(\"a not equal to b\")"
   ]
  },
  {
   "cell_type": "code",
   "execution_count": 5,
   "id": "5b5ad38f",
   "metadata": {},
   "outputs": [
    {
     "name": "stdout",
     "output_type": "stream",
     "text": [
      "Enter a number : 3\n",
      "Enter another number : 2\n",
      "a is greater then b\n",
      "\n",
      "a is greater then or equal to b\n",
      "\n",
      "a is not equal to b\n"
     ]
    }
   ],
   "source": [
    "import operator\n",
    "a=int(input(\"Enter a number : \"))\n",
    "b=int(input(\"Enter another number : \"))\n",
    "if(operator.gt(a,b)):\n",
    "  print(\"a is greater then b\")\n",
    "else:\n",
    "  print(\"a is not greater then b\")\n",
    "print(\"\")\n",
    "if(operator.ge(a,b)):\n",
    "  print(\"a is greater then or equal to b\")\n",
    "else:\n",
    "  print(\"a is not greater then or equal to b\")\n",
    "print(\"\")\n",
    "if(operator.ne(a,b)):\n",
    "  print(\"a is not equal to b\")\n",
    "else:\n",
    "  print(\"a is equal to b\")"
   ]
  },
  {
   "cell_type": "code",
   "execution_count": 6,
   "id": "a45190f0",
   "metadata": {},
   "outputs": [
    {
     "name": "stdout",
     "output_type": "stream",
     "text": [
      "The original list is :  10 20 30 40 50 60 \n",
      "\n",
      "List after set item :  [10, 20, 30, 3, 50, 60]\n",
      "\n",
      "The modified list after delitem() is  :  10 30 3 50 60 \n",
      "\n",
      "The 4th element of list is :  50\n"
     ]
    }
   ],
   "source": [
    "import operator\n",
    "li=[10,20,30,40,50,60]\n",
    "print(\"The original list is : \",end=' ')\n",
    "for i in range(0,len(li)):\n",
    "  print(li[i],end=' ')  \n",
    "\n",
    "print(\"\")\n",
    "operator.setitem(li,3,3)\n",
    "print(\"\\nList after set item : \",end=' ')\n",
    "print(li)\n",
    "  \n",
    "print(\"\")\n",
    "operator.delitem(li,1)\n",
    "print(\"The modified list after delitem() is  : \",end=' ')\n",
    "for i in range(0,len(li)):\n",
    "  print(li[i],end= ' ')\n",
    "  \n",
    "print(\"\")\n",
    "print(\"\\nThe 4th element of list is : \",end= ' ')\n",
    "print(operator.getitem(li,3))"
   ]
  },
  {
   "cell_type": "code",
   "execution_count": 7,
   "id": "d06ffc06",
   "metadata": {},
   "outputs": [
    {
     "name": "stdout",
     "output_type": "stream",
     "text": [
      "The concatenated strings is :  Baivab Sarkar Juhita dey\n"
     ]
    }
   ],
   "source": [
    "import operator\n",
    "s1=\"Baivab Sarkar \"\n",
    "s2=\"Juhita dey\"\n",
    "print(\"The concatenated strings is : \",end= ' ')\n",
    "print(operator.concat(s1,s2))"
   ]
  },
  {
   "cell_type": "code",
   "execution_count": 8,
   "id": "2ccb2aaa",
   "metadata": {},
   "outputs": [
    {
     "name": "stdout",
     "output_type": "stream",
     "text": [
      "doesn't contains\n"
     ]
    }
   ],
   "source": [
    "if(operator.contains(s1,s2)):\n",
    "  print(\"contains\")\n",
    "else:\n",
    "  print(\"doesn't contains\")"
   ]
  },
  {
   "cell_type": "code",
   "execution_count": 9,
   "id": "0ea698fe",
   "metadata": {},
   "outputs": [
    {
     "name": "stdout",
     "output_type": "stream",
     "text": [
      "Enter a binary number (0/1) : 3\n",
      "Enter another binary number (0/1) : 6\n",
      "\n",
      "The Bitwise and of a and b is :  2\n",
      "\n",
      "The Bitwise or of a and b is :  7\n",
      "\n",
      "The Bitwise xor of a and b is :  5\n"
     ]
    }
   ],
   "source": [
    "import operator\n",
    "a=int(input(\"Enter a binary number (0/1) : \"))\n",
    "b=int(input(\"Enter another binary number (0/1) : \"))\n",
    "print(\"\\nThe Bitwise and of a and b is : \",end=' ')\n",
    "print(operator.and_(a,b))\n",
    "print(\"\\nThe Bitwise or of a and b is : \",end=' ')\n",
    "print(operator.or_(a,b))\n",
    "print(\"\\nThe Bitwise xor of a and b is : \",end=' ')\n",
    "print(operator.xor(a,b))"
   ]
  },
  {
   "cell_type": "code",
   "execution_count": 10,
   "id": "9666e5a3",
   "metadata": {},
   "outputs": [
    {
     "name": "stdout",
     "output_type": "stream",
     "text": [
      "Enter a number : 9\n",
      "Enter another number : 5\n",
      "The value after adding and assigning :  14\n",
      "\n",
      "Enter a string : 6\n",
      "Enter another string : 5\n",
      "The string after concatination is : :  65\n"
     ]
    }
   ],
   "source": [
    "import operator\n",
    "a=int(input(\"Enter a number : \"))\n",
    "b=int(input(\"Enter another number : \"))\n",
    "x=operator.iadd(a,b)\n",
    "print(\"The value after adding and assigning : \",end=' ')\n",
    "print(x)\n",
    "x=input(\"\\nEnter a string : \")\n",
    "y=input(\"Enter another string : \")\n",
    "x=operator.iconcat(x,y)\n",
    "print(\"The string after concatination is : : \",end=' ')\n",
    "print(x)"
   ]
  },
  {
   "cell_type": "code",
   "execution_count": 11,
   "id": "b6841942",
   "metadata": {},
   "outputs": [
    {
     "name": "stdout",
     "output_type": "stream",
     "text": [
      "Enter a number : 9\n",
      "Enter another number : 6\n",
      "The value after subtracting and assigning :  3\n",
      "The value after multiplying and assigning 54\n",
      "The value after dividing and assigning 1.5\n"
     ]
    }
   ],
   "source": [
    "import operator\n",
    "a=int(input(\"Enter a number : \"))\n",
    "b=int(input(\"Enter another number : \"))\n",
    "print(\"The value after subtracting and assigning : \",end=' ')\n",
    "print(operator.isub(a,b))\n",
    "print(\"The value after multiplying and assigning\",end=' ')\n",
    "print(operator.imul(a,b))\n",
    "print(\"The value after dividing and assigning\",end=' ')\n",
    "print(operator.itruediv(a,b))"
   ]
  },
  {
   "cell_type": "code",
   "execution_count": 12,
   "id": "d9969ae1",
   "metadata": {},
   "outputs": [
    {
     "name": "stdout",
     "output_type": "stream",
     "text": [
      "Enter a number : 5\n",
      "Enter another number : 4\n",
      "The value after xoring and assigning :  1\n",
      "The value after expoentating and assigning :  625\n",
      "The value after bitwise and assigning :  5\n"
     ]
    }
   ],
   "source": [
    "import operator\n",
    "a=int(input(\"Enter a number : \"))\n",
    "b=int(input(\"Enter another number : \"))\n",
    "print(\"The value after xoring and assigning : \",end=' ')\n",
    "print(operator.ixor(a,b))\n",
    "print(\"The value after expoentating and assigning : \",end=' ')\n",
    "print(operator.ipow(a,b))\n",
    "print(\"The value after bitwise and assigning : \",end=' ')\n",
    "print(operator.ior(a,b))"
   ]
  },
  {
   "cell_type": "code",
   "execution_count": 13,
   "id": "d4631ede",
   "metadata": {},
   "outputs": [
    {
     "name": "stdout",
     "output_type": "stream",
     "text": [
      "Enter a number : 8\n",
      "Enter another number : 1\n",
      "The value after bitwise left shift and assigning :  16\n",
      " \n",
      "Enter a number : 5\n",
      "Enter another number : 3\n",
      "The value after bitwise right shift and assigning :  0\n"
     ]
    }
   ],
   "source": [
    "import operator\n",
    "a=int(input(\"Enter a number : \"))\n",
    "b=int(input(\"Enter another number : \"))\n",
    "print(\"The value after bitwise left shift and assigning : \",end=' ')\n",
    "print(operator.ilshift(a,b))\n",
    "print(\" \")\n",
    "a=int(input(\"Enter a number : \"))\n",
    "b=int(input(\"Enter another number : \"))\n",
    "print(\"The value after bitwise right shift and assigning : \",end=' ')\n",
    "print(operator.irshift(a,b))"
   ]
  },
  {
   "cell_type": "code",
   "execution_count": 14,
   "id": "ad9043bb",
   "metadata": {},
   "outputs": [
    {
     "name": "stdout",
     "output_type": "stream",
     "text": [
      "Enter a number : 6\n",
      "Enter another number : 5\n",
      "11\n"
     ]
    }
   ],
   "source": [
    "a=int(input(\"Enter a number : \"))\n",
    "b=int(input(\"Enter another number : \"))\n",
    "ratan=lambda a,b : a+b\n",
    "print(ratan(a,b))"
   ]
  }
 ],
 "metadata": {
  "kernelspec": {
   "display_name": "Python 3 (ipykernel)",
   "language": "python",
   "name": "python3"
  },
  "language_info": {
   "codemirror_mode": {
    "name": "ipython",
    "version": 3
   },
   "file_extension": ".py",
   "mimetype": "text/x-python",
   "name": "python",
   "nbconvert_exporter": "python",
   "pygments_lexer": "ipython3",
   "version": "3.10.9"
  }
 },
 "nbformat": 4,
 "nbformat_minor": 5
}
