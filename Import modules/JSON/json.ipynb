{
 "cells": [
  {
   "cell_type": "markdown",
   "id": "39439b99",
   "metadata": {},
   "source": [
    "## JSON in Python"
   ]
  },
  {
   "cell_type": "code",
   "execution_count": 1,
   "id": "4bff561e",
   "metadata": {},
   "outputs": [
    {
     "name": "stdout",
     "output_type": "stream",
     "text": [
      "30\n"
     ]
    }
   ],
   "source": [
    "import json\n",
    "x =  '{ \"name\":\"John\", \"age\":30, \"city\":\"New York\"}'\n",
    "y = json.loads(x)\n",
    "print(y[\"age\"])"
   ]
  },
  {
   "cell_type": "code",
   "execution_count": 2,
   "id": "b7bb0552",
   "metadata": {},
   "outputs": [
    {
     "name": "stdout",
     "output_type": "stream",
     "text": [
      "{\"name\": \"John\", \"age\": 30, \"city\": \"New York\"}\n"
     ]
    }
   ],
   "source": [
    "import json\n",
    "x = {\n",
    "  \"name\": \"John\",\n",
    "  \"age\": 30,\n",
    "  \"city\": \"New York\"\n",
    "}\n",
    "y = json.dumps(x)\n",
    "print(y)"
   ]
  },
  {
   "cell_type": "markdown",
   "id": "a90648a9",
   "metadata": {},
   "source": [
    "## Convert from Python to JSON"
   ]
  },
  {
   "cell_type": "markdown",
   "id": "c23332f6",
   "metadata": {},
   "source": [
    "## json format\n",
    "[\n",
    "  {\"JSON\": {\"name\": \"John\", \"age\": 30}}, \\\n",
    "  {\"JSON\": [\"apple\", \"bananas\"]}, \\\n",
    "  {\"JSON\": [\"apple\", \"bananas\"]}, \\\n",
    "  {\"JSON\": \"hello\"}, \\\n",
    "  {\"JSON\": 42}, \\\n",
    "  {\"JSON\": 31.76}, \\\n",
    "  {\"JSON\": true}, \\\n",
    "  {\"JSON\": false}, \\\n",
    "  {\"JSON\": null} \\\n",
    "]"
   ]
  },
  {
   "cell_type": "code",
   "execution_count": 3,
   "id": "41dd005c",
   "metadata": {},
   "outputs": [
    {
     "name": "stdout",
     "output_type": "stream",
     "text": [
      "{\"name\": \"John\", \"age\": 30}\n",
      "[\"apple\", \"bananas\"]\n",
      "[\"apple\", \"bananas\"]\n",
      "\"hello\"\n",
      "42\n",
      "31.76\n",
      "true\n",
      "false\n",
      "null\n"
     ]
    }
   ],
   "source": [
    "import json\n",
    "print(json.dumps({\"name\": \"John\", \"age\": 30}))\n",
    "print(json.dumps([\"apple\", \"bananas\"]))\n",
    "print(json.dumps((\"apple\", \"bananas\")))\n",
    "print(json.dumps(\"hello\"))\n",
    "print(json.dumps(42))\n",
    "print(json.dumps(31.76))\n",
    "print(json.dumps(True))\n",
    "print(json.dumps(False))\n",
    "print(json.dumps(None))"
   ]
  },
  {
   "cell_type": "markdown",
   "id": "19ff1df2",
   "metadata": {},
   "source": [
    "## Store JSON Data in a File"
   ]
  },
  {
   "cell_type": "markdown",
   "id": "dcae8a2a",
   "metadata": {},
   "source": [
    "**GET request to the following URL:**\n",
    "https://horoscope-app-api.vercel.app/api/v1/get-horoscope/daily?sign=capricorn&day=today"
   ]
  },
  {
   "cell_type": "code",
   "execution_count": 8,
   "id": "cacb9638",
   "metadata": {},
   "outputs": [
    {
     "name": "stdout",
     "output_type": "stream",
     "text": [
      "Data stored successfully!\n"
     ]
    }
   ],
   "source": [
    "import requests\n",
    "import json\n",
    "# Make the GET request to the horoscope API\n",
    "response = requests.get(\"https://horoscope-app-api.vercel.app/api/v1/get-horoscope/daily?sign=capricorn&day=today\")\n",
    "data = response.json()\n",
    "with open(\"horoscope_data.json\", \"w\") as file:\n",
    "    json.dump(data, file)\n",
    "print(\"Data stored successfully!\")"
   ]
  },
  {
   "cell_type": "code",
   "execution_count": 18,
   "id": "bbf34921",
   "metadata": {},
   "outputs": [],
   "source": [
    "import json  \n",
    "Topper_student ={  \n",
    "    \"student1\": {  \n",
    "        \"name\": \"Ram\",  \n",
    "        \"subject\": \"python\",  \n",
    "        \"age\": \"24\",  \n",
    "        \"marks\": \"98\"  \n",
    "    },  \n",
    "\"student2\": {  \n",
    "        \"name\": \"sam\",  \n",
    "        \"subject\": \"Java\",  \n",
    "        \"age\": \"24\",  \n",
    "        \"marks\": \"92\"  \n",
    "    },  \n",
    "\"student3\": {  \n",
    "        \"name\": \"Radha\",  \n",
    "        \"subject\": \"Html\",  \n",
    "        \"age\": \"24\",  \n",
    "        \"marks\": \"96\"  \n",
    "    },  \n",
    "}  \n",
    "save_file = open(\"savedata.json\", \"w\")  \n",
    "json.dump(Topper_student, save_file, indent = 6)  \n",
    "save_file.close()  "
   ]
  },
  {
   "cell_type": "markdown",
   "id": "7a79d479",
   "metadata": {},
   "source": [
    "## Retrieve Data from a JSON File\n",
    "**json.load() function**"
   ]
  },
  {
   "cell_type": "code",
   "execution_count": 9,
   "id": "f578fb36",
   "metadata": {},
   "outputs": [
    {
     "name": "stdout",
     "output_type": "stream",
     "text": [
      "Horoscope for date Jul 19, 2023: Your emotions may seem a bit muddy today, Capricorn. You might not understand the reason for this. Look to others to share your thoughts. You should find that talking will help you sort through your feelings. If you need to, shift down to second gear for a little more power. Take your time if you need to. Don't let others rush you into believing something that you suspect isn't true.\n"
     ]
    }
   ],
   "source": [
    "import json\n",
    "with open(\"horoscope_data.json\", \"r\") as file:\n",
    "    data = json.load(file)\n",
    "date = data[\"data\"][\"date\"]\n",
    "horoscope_data = data[\"data\"][\"horoscope_data\"]\n",
    "print(f\"Horoscope for date {date}: {horoscope_data}\")"
   ]
  },
  {
   "cell_type": "markdown",
   "id": "4ca2cb91",
   "metadata": {},
   "source": [
    "## Format the JSON Output"
   ]
  },
  {
   "cell_type": "code",
   "execution_count": 11,
   "id": "e20ea6fc",
   "metadata": {},
   "outputs": [
    {
     "name": "stdout",
     "output_type": "stream",
     "text": [
      "{'data': {'date': 'Jul 19, 2023', 'horoscope_data': \"Your emotions may seem a bit muddy today, Capricorn. You might not understand the reason for this. Look to others to share your thoughts. You should find that talking will help you sort through your feelings. If you need to, shift down to second gear for a little more power. Take your time if you need to. Don't let others rush you into believing something that you suspect isn't true.\"}, 'status': 200, 'success': True}\n"
     ]
    }
   ],
   "source": [
    "import json\n",
    "with open(\"horoscope_data.json\", \"r\") as file:\n",
    "    data = json.load(file)\n",
    "print(data)"
   ]
  },
  {
   "cell_type": "markdown",
   "id": "1f13c4b2",
   "metadata": {},
   "source": [
    "**json.dumps() function**"
   ]
  },
  {
   "cell_type": "code",
   "execution_count": 12,
   "id": "a1580785",
   "metadata": {},
   "outputs": [
    {
     "name": "stdout",
     "output_type": "stream",
     "text": [
      "{\n",
      "  \"data\": {\n",
      "    \"date\": \"Jul 19, 2023\",\n",
      "    \"horoscope_data\": \"Your emotions may seem a bit muddy today, Capricorn. You might not understand the reason for this. Look to others to share your thoughts. You should find that talking will help you sort through your feelings. If you need to, shift down to second gear for a little more power. Take your time if you need to. Don't let others rush you into believing something that you suspect isn't true.\"\n",
      "  },\n",
      "  \"status\": 200,\n",
      "  \"success\": true\n",
      "}\n"
     ]
    }
   ],
   "source": [
    "import json\n",
    "with open(\"horoscope_data.json\", \"r\") as file:\n",
    "    data = json.load(file)\n",
    "formatted_data = json.dumps(data, indent=2)\n",
    "print(formatted_data)"
   ]
  },
  {
   "cell_type": "markdown",
   "id": "18b28c6f",
   "metadata": {},
   "source": [
    "## JSON Encoding Custom Objects"
   ]
  },
  {
   "cell_type": "code",
   "execution_count": 15,
   "id": "e2fceaf5",
   "metadata": {},
   "outputs": [
    {
     "name": "stdout",
     "output_type": "stream",
     "text": [
      "{\"name\": \"Ashutosh Krishna\", \"age\": 23}\n"
     ]
    }
   ],
   "source": [
    "import json\n",
    "class Person:\n",
    "    def __init__(self, name, age):\n",
    "        self.name = name\n",
    "        self.age = age\n",
    "\n",
    "class PersonEncoder(json.JSONEncoder):\n",
    "    def default(self, obj):\n",
    "        if isinstance(obj, Person):\n",
    "            return {\"name\": obj.name, \"age\": obj.age}\n",
    "        return super().default(obj)\n",
    "person = Person(\"Ashutosh Krishna\", 23)\n",
    "json_str = json.dumps(person, cls=PersonEncoder)\n",
    "print(json_str)"
   ]
  },
  {
   "cell_type": "markdown",
   "id": "a7ac9eba",
   "metadata": {},
   "source": [
    "## Create JSON from a Python Dictionary"
   ]
  },
  {
   "cell_type": "code",
   "execution_count": 16,
   "id": "3de759a1",
   "metadata": {},
   "outputs": [
    {
     "name": "stdout",
     "output_type": "stream",
     "text": [
      "{\"name\": \"Ashutosh Krishna\", \"age\": 23, \"email\": \"ashutosh@example.com\"}\n"
     ]
    }
   ],
   "source": [
    "import json\n",
    "data = {\n",
    "    \"name\": \"Ashutosh Krishna\",\n",
    "    \"age\": 23,\n",
    "    \"email\": \"ashutosh@example.com\"\n",
    "}\n",
    "json_str = json.dumps(data)\n",
    "print(json_str)"
   ]
  },
  {
   "cell_type": "markdown",
   "id": "21e6b9d5",
   "metadata": {},
   "source": [
    "## Create a Python Dictionary from JSON"
   ]
  },
  {
   "cell_type": "code",
   "execution_count": 17,
   "id": "e9329d53",
   "metadata": {},
   "outputs": [
    {
     "name": "stdout",
     "output_type": "stream",
     "text": [
      "Ashutosh Krishna\n",
      "23\n",
      "ashutosh@example.com\n"
     ]
    }
   ],
   "source": [
    "import json\n",
    "json_str = '{\"name\": \"Ashutosh Krishna\", \"age\": 23, \"email\": \"ashutosh@example.com\"}'\n",
    "data = json.loads(json_str)\n",
    "print(data[\"name\"])\n",
    "print(data[\"age\"])\n",
    "print(data[\"email\"])"
   ]
  }
 ],
 "metadata": {
  "kernelspec": {
   "display_name": "Python 3 (ipykernel)",
   "language": "python",
   "name": "python3"
  },
  "language_info": {
   "codemirror_mode": {
    "name": "ipython",
    "version": 3
   },
   "file_extension": ".py",
   "mimetype": "text/x-python",
   "name": "python",
   "nbconvert_exporter": "python",
   "pygments_lexer": "ipython3",
   "version": "3.10.9"
  }
 },
 "nbformat": 4,
 "nbformat_minor": 5
}
